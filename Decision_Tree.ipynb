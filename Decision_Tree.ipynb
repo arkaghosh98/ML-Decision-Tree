{
  "nbformat": 4,
  "nbformat_minor": 0,
  "metadata": {
    "colab": {
      "name": "Decision_Tree.ipynb",
      "provenance": [],
      "collapsed_sections": []
    },
    "kernelspec": {
      "name": "python3",
      "display_name": "Python 3"
    },
    "language_info": {
      "name": "python"
    }
  },
  "cells": [
    {
      "cell_type": "markdown",
      "metadata": {
        "id": "SEtrphMfhusH"
      },
      "source": [
        "### **Importing the libraries**"
      ]
    },
    {
      "cell_type": "code",
      "metadata": {
        "id": "NeRaBofiIs9J"
      },
      "source": [
        "import pandas as pd\n",
        "import numpy as np\n",
        "import matplotlib.pyplot as plt\n",
        "%matplotlib inline\n",
        "from math import log2, floor"
      ],
      "execution_count": null,
      "outputs": []
    },
    {
      "cell_type": "markdown",
      "metadata": {
        "id": "GSGmWo6Ixfxw"
      },
      "source": [
        "## **1. Build a decision-tree classifier by randomly splitting the dataset as 80/20 split. Use the impurity measures- 1) gini index and 2) information gain. Analyze the impact of using individual impurity measures on the predic\u0002tion. Do not use package for building the tree and implement this part on your own.**"
      ]
    },
    {
      "cell_type": "markdown",
      "metadata": {
        "id": "FXz38AsAkdVu"
      },
      "source": [
        "## **Decision Tree**"
      ]
    },
    {
      "cell_type": "markdown",
      "metadata": {
        "id": "mnjMc_MJkVxP"
      },
      "source": [
        "### **Defining the structure of the Decision Tree node**\n",
        "\n"
      ]
    },
    {
      "cell_type": "code",
      "metadata": {
        "id": "sP4VTL0lDAts"
      },
      "source": [
        "class TreeNode():\n",
        "    def __init__(self, is_leaf, attribute=None, split_value=None, left=None, right=None, target_class=None):\n",
        "        # node attribute to differentiate between internal and leaf node\n",
        "        self.is_leaf = is_leaf\n",
        "\n",
        "        # atrributes for internal/decision node\n",
        "        self.attribute = attribute\n",
        "        self.split_value = split_value\n",
        "        self.left = left\n",
        "        self.right = right\n",
        "\n",
        "        # attribute for stroring class in leaf node\n",
        "        self.target_class = target_class"
      ],
      "execution_count": null,
      "outputs": []
    },
    {
      "cell_type": "markdown",
      "metadata": {
        "id": "f8WAuAu0lr6P"
      },
      "source": [
        "### **Decision Tree**"
      ]
    },
    {
      "cell_type": "code",
      "metadata": {
        "id": "GuWbVI1fU5rs"
      },
      "source": [
        "class DecisionTree():\n",
        "    def __init__(self, impurity_measure, max_depth=10**12):\n",
        "        self.root = None\n",
        "        self.impurity_measure = impurity_measure.lower()\n",
        "        self.max_depth = max_depth\n",
        "    \n",
        "    def build_tree(self, data, curr_depth):\n",
        "        target = data.columns[-1]\n",
        "        classes = data[target].unique()\n",
        "\n",
        "        if len(classes) == 1:                       # if all data are of same class create a leaf node with the majority class\n",
        "            majority_class = classes[0]\n",
        "            return TreeNode(is_leaf=True, target_class=majority_class)\n",
        "        \n",
        "        if curr_depth == self.max_depth:                # if maximum depth reached create a leaf node with the majority class\n",
        "            majority = 0\n",
        "            majority_class = None\n",
        "\n",
        "            for c in classes:\n",
        "                count = len(data[data[target] == c])\n",
        "                if count > majority:\n",
        "                    majority = count\n",
        "                    majority_class = c\n",
        "\n",
        "            return TreeNode(is_leaf=True, target_class=majority_class)\n",
        "    \n",
        "        m = data.shape[1]\n",
        "\n",
        "        best_gain = float('-inf')\n",
        "        best_attribute = None\n",
        "        best_threshold = 0\n",
        "        \n",
        "        for i in range(m-1):\n",
        "            col = data.columns[i]\n",
        "\n",
        "            if data[col].nunique() == 1:            # if there is only 1 unique element in the column skip it\n",
        "                continue\n",
        "            \n",
        "            gain, threshold = self.information_gain(data, col)\n",
        "            if gain > best_gain:\n",
        "                best_gain = gain\n",
        "                best_attribute = col\n",
        "                best_threshold = threshold\n",
        "        \n",
        "        if best_attribute is not None:\n",
        "            split_value = best_threshold\n",
        "            left_data = data[data[best_attribute] <= best_threshold]\n",
        "            right_data = data[data[best_attribute] > best_threshold]\n",
        "\n",
        "        if best_attribute is None or len(left_data) == 0 or len(right_data) == 0:  # if no best attribute is found or data on left or right side has zero(0) instances then create leaf node\n",
        "            target = data.columns[-1]\n",
        "            classes = data[target].unique()\n",
        "            majority = 0\n",
        "            majority_class = None\n",
        "\n",
        "            for c in classes:\n",
        "                count = len(data[data[target] == c])\n",
        "                if count > majority:\n",
        "                    majority = count\n",
        "                    majority_class = c\n",
        "\n",
        "            return TreeNode(is_leaf=True, target_class=majority_class)\n",
        "            \n",
        "        left = self.build_tree(left_data, curr_depth+1)         # recursively build the left subtree\n",
        "        right = self.build_tree(right_data, curr_depth+1)       # recursively build the right subtree\n",
        "            \n",
        "        return TreeNode(is_leaf=False, attribute=best_attribute, split_value=split_value, left=left, right=right)   # create a new decision node and return it\n",
        "    \n",
        "    def entropy(self, data):        # function to calculate the entropy impurity measure of a given data\n",
        "        res = 0\n",
        "\n",
        "        target = data.columns[-1]\n",
        "        classes = data[target].unique()\n",
        "        \n",
        "        for c in classes:\n",
        "            count = len(data[data[target] == c])\n",
        "            if count != 0:\n",
        "                res -= (count/len(data))*log2(count/len(data))\n",
        "            \n",
        "        return res\n",
        "\n",
        "    def gini_index(self, data):     # function to calculate the gini index impurity measure of a given data\n",
        "        res = 0\n",
        "\n",
        "        target = data.columns[-1]\n",
        "        classes = data[target].unique()\n",
        "\n",
        "        for c in classes:\n",
        "            count = len(data[data[target] == c])\n",
        "            res += (count/len(data))**2\n",
        "            \n",
        "        return 1-res\n",
        "  \n",
        "    def information_gain(self, data, col):      # # function to calculate the information gain and best threshold split value at a node if the data is split on a particular attribute\n",
        "        if self.impurity_measure == \"entropy\":\n",
        "            data_impurity = self.entropy(data)\n",
        "        else:\n",
        "            data_impurity = self.gini_index(data)\n",
        "            \n",
        "        best_gain = float('-inf')\n",
        "        best_threshold = 0\n",
        "\n",
        "        values = data[col].unique()\n",
        "        values.sort()\n",
        "\n",
        "        for i in range(len(values) - 1):\n",
        "            threshold = (values[i] + values[i+1])//2\n",
        "\n",
        "            gain = data_impurity\n",
        "\n",
        "            left_data = data[data[col] <= threshold]\n",
        "            right_data = data[data[col] > threshold]\n",
        "\n",
        "            if self.impurity_measure == \"entropy\":\n",
        "                gain -= (len(left_data)/len(data))*self.entropy(left_data)\n",
        "                gain -= (len(right_data)/len(data))*self.entropy(right_data)\n",
        "            else:\n",
        "                gain -= (len(left_data)/len(data))*self.gini_index(left_data)\n",
        "                gain -= (len(right_data)/len(data))*self.gini_index(right_data)\n",
        "\n",
        "            if gain > best_gain:\n",
        "                best_gain = gain\n",
        "                best_threshold = threshold\n",
        "\n",
        "        return (best_gain, best_threshold)\n",
        "  \n",
        "    def fit(self, X, y):                    # this function invokes the build tree method to build the tree on the given training data\n",
        "        data = pd.concat([X, y], axis=1)\n",
        "        self.root = self.build_tree(data, 0)\n",
        "\n",
        "    def tree_depth(self, root=None):        # function to find the depth of the tree\n",
        "        if root is None:\n",
        "            root = self.root\n",
        "\n",
        "        if root.is_leaf:\n",
        "            return 0\n",
        "\n",
        "        return 1 + max(self.tree_depth(root.left), self.tree_depth(root.right))\n",
        "\n",
        "    def tree_nodes(self, root=None):        # fucntion to find the height of the tree\n",
        "        if root is None:\n",
        "            root = self.root\n",
        "\n",
        "        if root.is_leaf:\n",
        "            return 1\n",
        "\n",
        "        return 1 + self.tree_nodes(root.left) + self.tree_nodes(root.right)\n",
        "  \n",
        "    def get_class(self, root, X):           # recursively find the class a given data point belongs to in the built decision tree\n",
        "        if root.is_leaf:\n",
        "            return root.target_class\n",
        "\n",
        "        if X[root.attribute] <= root.split_value:\n",
        "            return self.get_class(root.left, X)\n",
        "        return self.get_class(root.right, X)\n",
        "    \n",
        "    def predict(self, X):               # function to predict which class a given data point belongs to\n",
        "        return self.get_class(self.root, X)"
      ],
      "execution_count": null,
      "outputs": []
    },
    {
      "cell_type": "markdown",
      "metadata": {
        "id": "agyP-C1k15_7"
      },
      "source": [
        "### **Function to read the dataset**"
      ]
    },
    {
      "cell_type": "code",
      "metadata": {
        "id": "-5BODJu6LLSR"
      },
      "source": [
        "def read_data():\n",
        "    '''\n",
        "        reads the dataset and returns a dataframe containing the required columns and after dichotomising the required column\n",
        "    '''\n",
        "    cols = ['mcv', 'alkphos', 'sgpt', 'sgot', 'gammagt', 'drinks']  # required columns in dataset\n",
        "    skip = [85, 317, 149, 175]                                      # duplicate rows to skip\n",
        "    useful_cols = 6                                                 # only the first 6 columns are useful\n",
        "\n",
        "    df = pd.read_csv('bupa.data', names=cols, skiprows=skip, usecols=[i for i in range(useful_cols)])\n",
        "\n",
        "    # Performing Dichotomisation on the target label\n",
        "    median = df[df.columns[-1]].median()                    # Dichotomising using the median of the target column\n",
        "    df.loc[(df[df.columns[-1]] < median), cols[-1]] = 0     # Class 0\n",
        "    df.loc[(df[df.columns[-1]] >= median), cols[-1]] = 1    # Class 1\n",
        "    df = df.astype(int)\n",
        "    \n",
        "    return df\n",
        "\n",
        "data = read_data()"
      ],
      "execution_count": null,
      "outputs": []
    },
    {
      "cell_type": "markdown",
      "metadata": {
        "id": "eSxFOBshSCVL"
      },
      "source": [
        "### **Splitting the data into train and test**\n"
      ]
    },
    {
      "cell_type": "code",
      "metadata": {
        "id": "pwqvnUr8STDN"
      },
      "source": [
        "from sklearn.model_selection import train_test_split\n",
        "\n",
        "train, test = train_test_split(data, random_state=19, test_size=0.2)\n",
        "\n",
        "X_train = train.iloc[:, :-1]\n",
        "y_train = train.iloc[:, -1]\n",
        "\n",
        "X_test = test.iloc[:, :-1]\n",
        "y_test = test.iloc[:, -1]"
      ],
      "execution_count": null,
      "outputs": []
    },
    {
      "cell_type": "markdown",
      "metadata": {
        "id": "Bl2dpTLqSc0P"
      },
      "source": [
        "### **Creating the Decision Tree with Entropy, training and testing it**"
      ]
    },
    {
      "cell_type": "code",
      "metadata": {
        "id": "PW-dfZNKSrNg",
        "colab": {
          "base_uri": "https://localhost:8080/"
        },
        "outputId": "1bd35a46-372e-45f6-f952-59faece01f4c"
      },
      "source": [
        "model_entropy = DecisionTree(impurity_measure=\"entropy\")\n",
        "model_entropy.fit(X_train, y_train)\n",
        "\n",
        "correct = 0\n",
        "\n",
        "for i in range(len(X_train)):\n",
        "  prediction = model_entropy.predict(X_train.iloc[i])\n",
        "  if prediction == y_train.iloc[i]:\n",
        "    correct += 1\n",
        "\n",
        "print(\"Train Accuracy of Decision Tree with Entropy:\", (correct/len(X_train))*100)\n",
        "\n",
        "correct = 0\n",
        "\n",
        "for i in range(len(X_test)):\n",
        "  prediction = model_entropy.predict(X_test.iloc[i])\n",
        "  if prediction == y_test.iloc[i]:\n",
        "    correct += 1\n",
        "\n",
        "print(\"Test Accuracy of Decision Tree with Entropy:\", (correct/len(X_test))*100)"
      ],
      "execution_count": null,
      "outputs": [
        {
          "output_type": "stream",
          "name": "stdout",
          "text": [
            "Train Accuracy of Decision Tree with Entropy: 100.0\n",
            "Test Accuracy of Decision Tree with Entropy: 55.072463768115945\n"
          ]
        }
      ]
    },
    {
      "cell_type": "markdown",
      "metadata": {
        "id": "Kii2xjpOS6Ou"
      },
      "source": [
        "### **Creating the Decision Tree with Gini Index, training and testing it**"
      ]
    },
    {
      "cell_type": "code",
      "metadata": {
        "id": "5RO3IMa-T8HT",
        "colab": {
          "base_uri": "https://localhost:8080/"
        },
        "outputId": "26957c18-dc99-40da-ae3d-319146207871"
      },
      "source": [
        "model_gini_index = DecisionTree(impurity_measure=\"gini_index\")\n",
        "model_gini_index.fit(X_train, y_train)\n",
        "\n",
        "correct = 0\n",
        "\n",
        "for i in range(len(X_train)):\n",
        "  prediction = model_gini_index.predict(X_train.iloc[i])\n",
        "  if prediction == y_train.iloc[i]:\n",
        "    correct += 1\n",
        "\n",
        "print(\"Train Accuracy of Decision Tree with Gini Index:\", (correct/len(X_train))*100)\n",
        "\n",
        "correct = 0\n",
        "\n",
        "for i in range(len(X_test)):\n",
        "  prediction = model_gini_index.predict(X_test.iloc[i])\n",
        "  if prediction == y_test.iloc[i]:\n",
        "    correct += 1\n",
        "\n",
        "print(\"Test Accuracy of Decision Tree with Gini Index:\", (correct/len(X_test))*100)"
      ],
      "execution_count": null,
      "outputs": [
        {
          "output_type": "stream",
          "name": "stdout",
          "text": [
            "Train Accuracy of Decision Tree with Gini Index: 100.0\n",
            "Test Accuracy of Decision Tree with Gini Index: 57.971014492753625\n"
          ]
        }
      ]
    },
    {
      "cell_type": "markdown",
      "metadata": {
        "id": "rYZu4qhk46IH"
      },
      "source": [
        "## **2. Provide the accuracy by averaging over 10 random 80/20 splits. Consider that particular tree which provides the best test accuracy as the desired one.**"
      ]
    },
    {
      "cell_type": "markdown",
      "metadata": {
        "id": "IwVHk6vmVnXf"
      },
      "source": [
        "### **Averaging the test accuracy over 10 random 80/20 splits for both the decision trees**"
      ]
    },
    {
      "cell_type": "code",
      "metadata": {
        "colab": {
          "base_uri": "https://localhost:8080/"
        },
        "id": "EUqvrqlqWGrG",
        "outputId": "8b086261-b43b-45af-f4b8-5b22953bcee5"
      },
      "source": [
        "def average_test_accuracy(data, runs):\n",
        "    total_accuracy_entropy = 0\n",
        "    total_accuracy_gini_index = 0\n",
        "\n",
        "    for i in range(runs):\n",
        "        train, test = train_test_split(data, test_size=0.2)\n",
        "\n",
        "        X_train = train.iloc[:, :-1]\n",
        "        y_train = train.iloc[:, -1]\n",
        "\n",
        "        X_test = test.iloc[:, :-1]\n",
        "        y_test = test.iloc[:, -1]\n",
        "\n",
        "        model_entropy = DecisionTree(impurity_measure=\"entropy\")\n",
        "        model_entropy.fit(X_train, y_train)\n",
        "\n",
        "        correct_entropy = 0\n",
        "\n",
        "        for j in range(len(X_test)):\n",
        "            prediction = model_entropy.predict(X_test.iloc[j])\n",
        "            if prediction == y_test.iloc[j]:\n",
        "                correct_entropy += 1\n",
        "\n",
        "        accuracy_entropy = (correct_entropy/len(X_test))*100\n",
        "        print(f\"Test Accuracy of Decision Tree with Entropy for iteration {i+1}:\", accuracy_entropy)\n",
        "\n",
        "        total_accuracy_entropy += accuracy_entropy\n",
        "\n",
        "        model_gini_index = DecisionTree(impurity_measure=\"gini_index\")\n",
        "        model_gini_index.fit(X_train, y_train)\n",
        "\n",
        "        correct_gini_index = 0\n",
        "\n",
        "        for j in range(len(X_test)):\n",
        "            prediction = model_gini_index.predict(X_test.iloc[j])\n",
        "            if prediction == y_test.iloc[j]:\n",
        "                correct_gini_index += 1\n",
        "\n",
        "        accuracy_gini_index = (correct_gini_index/len(X_test))*100\n",
        "        print(f\"Test Accuracy of Decision Tree with Gini Index for iteration {i+1}:\", accuracy_gini_index)\n",
        "\n",
        "        total_accuracy_gini_index += accuracy_gini_index\n",
        "        print()\n",
        "\n",
        "    print()\n",
        "    print()\n",
        "    print(\"Average Test Accuracy of Decision Tree with Entropy:\", total_accuracy_entropy/10)\n",
        "\n",
        "    print()\n",
        "    print(\"Average Test Accuracy of Decision Tree with Gini Index:\", total_accuracy_gini_index/10)\n",
        "\n",
        "average_test_accuracy(data, 10)"
      ],
      "execution_count": null,
      "outputs": [
        {
          "output_type": "stream",
          "name": "stdout",
          "text": [
            "Test Accuracy of Decision Tree with Entropy for iteration 1: 56.52173913043478\n",
            "Test Accuracy of Decision Tree with Gini Index for iteration 1: 52.17391304347826\n",
            "\n",
            "Test Accuracy of Decision Tree with Entropy for iteration 2: 56.52173913043478\n",
            "Test Accuracy of Decision Tree with Gini Index for iteration 2: 57.971014492753625\n",
            "\n",
            "Test Accuracy of Decision Tree with Entropy for iteration 3: 63.76811594202898\n",
            "Test Accuracy of Decision Tree with Gini Index for iteration 3: 56.52173913043478\n",
            "\n",
            "Test Accuracy of Decision Tree with Entropy for iteration 4: 59.42028985507246\n",
            "Test Accuracy of Decision Tree with Gini Index for iteration 4: 57.971014492753625\n",
            "\n",
            "Test Accuracy of Decision Tree with Entropy for iteration 5: 47.82608695652174\n",
            "Test Accuracy of Decision Tree with Gini Index for iteration 5: 55.072463768115945\n",
            "\n",
            "Test Accuracy of Decision Tree with Entropy for iteration 6: 49.275362318840585\n",
            "Test Accuracy of Decision Tree with Gini Index for iteration 6: 49.275362318840585\n",
            "\n",
            "Test Accuracy of Decision Tree with Entropy for iteration 7: 59.42028985507246\n",
            "Test Accuracy of Decision Tree with Gini Index for iteration 7: 62.31884057971014\n",
            "\n",
            "Test Accuracy of Decision Tree with Entropy for iteration 8: 47.82608695652174\n",
            "Test Accuracy of Decision Tree with Gini Index for iteration 8: 59.42028985507246\n",
            "\n",
            "Test Accuracy of Decision Tree with Entropy for iteration 9: 44.927536231884055\n",
            "Test Accuracy of Decision Tree with Gini Index for iteration 9: 57.971014492753625\n",
            "\n",
            "Test Accuracy of Decision Tree with Entropy for iteration 10: 55.072463768115945\n",
            "Test Accuracy of Decision Tree with Gini Index for iteration 10: 56.52173913043478\n",
            "\n",
            "\n",
            "\n",
            "Average Test Accuracy of Decision Tree with Entropy: 54.05797101449275\n",
            "\n",
            "Average Test Accuracy of Decision Tree with Gini Index: 56.521739130434774\n"
          ]
        }
      ]
    },
    {
      "cell_type": "markdown",
      "metadata": {
        "id": "m1Bv812DDw7L"
      },
      "source": [
        "### **The output of testing over 10 random 80/20 splits during our run. Decision Tree with Gini Index provided better test accuracy.**"
      ]
    },
    {
      "cell_type": "code",
      "metadata": {
        "id": "KD9LPj36D-2Y"
      },
      "source": [
        "# Test Accuracy of Decision Tree with Entropy for iteration 1: 56.52173913043478\n",
        "# Test Accuracy of Decision Tree with Gini Index for iteration 1: 52.17391304347826\n",
        "\n",
        "# Test Accuracy of Decision Tree with Entropy for iteration 2: 56.52173913043478\n",
        "# Test Accuracy of Decision Tree with Gini Index for iteration 2: 57.971014492753625\n",
        "\n",
        "# Test Accuracy of Decision Tree with Entropy for iteration 3: 63.76811594202898\n",
        "# Test Accuracy of Decision Tree with Gini Index for iteration 3: 56.52173913043478\n",
        "\n",
        "# Test Accuracy of Decision Tree with Entropy for iteration 4: 59.42028985507246\n",
        "# Test Accuracy of Decision Tree with Gini Index for iteration 4: 57.971014492753625\n",
        "\n",
        "# Test Accuracy of Decision Tree with Entropy for iteration 5: 47.82608695652174\n",
        "# Test Accuracy of Decision Tree with Gini Index for iteration 5: 55.072463768115945\n",
        "\n",
        "# Test Accuracy of Decision Tree with Entropy for iteration 6: 49.275362318840585\n",
        "# Test Accuracy of Decision Tree with Gini Index for iteration 6: 49.275362318840585\n",
        "\n",
        "# Test Accuracy of Decision Tree with Entropy for iteration 7: 59.42028985507246\n",
        "# Test Accuracy of Decision Tree with Gini Index for iteration 7: 62.31884057971014\n",
        "\n",
        "# Test Accuracy of Decision Tree with Entropy for iteration 8: 47.82608695652174\n",
        "# Test Accuracy of Decision Tree with Gini Index for iteration 8: 59.42028985507246\n",
        "\n",
        "# Test Accuracy of Decision Tree with Entropy for iteration 9: 44.927536231884055\n",
        "# Test Accuracy of Decision Tree with Gini Index for iteration 9: 57.971014492753625\n",
        "\n",
        "# Test Accuracy of Decision Tree with Entropy for iteration 10: 55.072463768115945\n",
        "# Test Accuracy of Decision Tree with Gini Index for iteration 10: 56.52173913043478\n",
        "\n",
        "\n",
        "\n",
        "# Average Test Accuracy of Decision Tree with Entropy: 54.05797101449275\n",
        "\n",
        "# Average Test Accuracy of Decision Tree with Gini Index: 56.521739130434774"
      ],
      "execution_count": null,
      "outputs": []
    },
    {
      "cell_type": "markdown",
      "metadata": {
        "id": "FPQnDlBaa1qP"
      },
      "source": [
        "###**3. What is the best possible depth limit to be used for your dataset. Provide a plot explaining the same. Also provide a plot of the test accuracy vs. the total number of nodes in the trees.**"
      ]
    },
    {
      "cell_type": "markdown",
      "metadata": {
        "id": "vxng-Iuffrjl"
      },
      "source": [
        "### **Test Accuracy vs Depth of tree  and Test Accuracy vs Total Number of nodes in tree**"
      ]
    },
    {
      "cell_type": "code",
      "metadata": {
        "colab": {
          "base_uri": "https://localhost:8080/"
        },
        "id": "S3dJGf3Ia9Xo",
        "outputId": "c3a585f1-547b-4f04-e35a-209cfaa9f09a"
      },
      "source": [
        "def accuracy_vs_depth(train, test, max_depth):\n",
        "    X_train = train.iloc[:, :-1]\n",
        "    y_train = train.iloc[:, -1]\n",
        "\n",
        "    X_test = test.iloc[:, :-1]\n",
        "    y_test = test.iloc[:, -1]\n",
        "\n",
        "    entropy_data = []\n",
        "    gini_index_data = []\n",
        "\n",
        "    for depth in range(max_depth+1):\n",
        "        model_entropy = DecisionTree(impurity_measure=\"entropy\", max_depth=depth)\n",
        "        model_entropy.fit(X_train, y_train)\n",
        "\n",
        "        correct_entropy = 0\n",
        "\n",
        "        for j in range(len(X_test)):\n",
        "            prediction = model_entropy.predict(X_test.iloc[j])\n",
        "            if prediction == y_test.iloc[j]:\n",
        "                correct_entropy += 1\n",
        "\n",
        "        accuracy_entropy = (correct_entropy/len(X_test))*100\n",
        "        if len(entropy_data) == 0 or model_entropy.tree_depth() > entropy_data[-1][0]:\n",
        "            entropy_data.append([model_entropy.tree_depth(), model_entropy.tree_nodes(), accuracy_entropy])\n",
        "\n",
        "        model_gini_index = DecisionTree(impurity_measure=\"gini_index\", max_depth=depth)\n",
        "        model_gini_index.fit(X_train, y_train)\n",
        "\n",
        "        correct_gini_index = 0\n",
        "\n",
        "        for j in range(len(X_test)):\n",
        "            prediction = model_gini_index.predict(X_test.iloc[j])\n",
        "            if prediction == y_test.iloc[j]:\n",
        "                correct_gini_index += 1\n",
        "\n",
        "        accuracy_gini_index = (correct_gini_index/len(X_test))*100\n",
        "        if len(gini_index_data) == 0 or model_gini_index.tree_depth() > gini_index_data[-1][0]:\n",
        "            gini_index_data.append([model_gini_index.tree_depth(), model_gini_index.tree_nodes(), accuracy_gini_index])\n",
        "\n",
        "    print(\"Details of depth VS number of nodes VS test accuracy for Decision Tree with Entropy Impurity Measure\")\n",
        "    for e in entropy_data:\n",
        "        print(f\"Depth: {e[0]}\\t Nodes: {e[1]}\\t Accuracy: {e[2]}\")\n",
        "\n",
        "    print(\"\\n-----------------------------------------------------------------------------------------------------\\n\")\n",
        "\n",
        "    print(\"Details of depth VS number of nodes VS test accuracy for Decision Tree with Gini Index Impurity Measure\")\n",
        "    for e in gini_index_data:\n",
        "        print(f\"Depth: {e[0]}\\t Nodes: {e[1]}\\t Accuracy: {e[2]}\")\n",
        "\n",
        "    return (entropy_data, gini_index_data)\n",
        "\n",
        "\n",
        "max_depth = max(model_entropy.tree_depth(), model_gini_index.tree_depth())\n",
        "\n",
        "entropy_data, gini_index_data = accuracy_vs_depth(train, test, max_depth)"
      ],
      "execution_count": null,
      "outputs": [
        {
          "output_type": "stream",
          "name": "stdout",
          "text": [
            "Details of depth VS number of nodes VS test accuracy for Decision Tree with Entropy Impurity Measure\n",
            "Depth: 0\t Nodes: 1\t Accuracy: 49.275362318840585\n",
            "Depth: 1\t Nodes: 3\t Accuracy: 60.86956521739131\n",
            "Depth: 2\t Nodes: 7\t Accuracy: 59.42028985507246\n",
            "Depth: 3\t Nodes: 13\t Accuracy: 44.927536231884055\n",
            "Depth: 4\t Nodes: 21\t Accuracy: 47.82608695652174\n",
            "Depth: 5\t Nodes: 33\t Accuracy: 60.86956521739131\n",
            "Depth: 6\t Nodes: 51\t Accuracy: 65.21739130434783\n",
            "Depth: 7\t Nodes: 69\t Accuracy: 60.86956521739131\n",
            "Depth: 8\t Nodes: 85\t Accuracy: 62.31884057971014\n",
            "Depth: 9\t Nodes: 99\t Accuracy: 59.42028985507246\n",
            "Depth: 10\t Nodes: 107\t Accuracy: 55.072463768115945\n",
            "Depth: 11\t Nodes: 117\t Accuracy: 52.17391304347826\n",
            "Depth: 12\t Nodes: 125\t Accuracy: 53.62318840579711\n",
            "Depth: 13\t Nodes: 129\t Accuracy: 52.17391304347826\n",
            "Depth: 14\t Nodes: 133\t Accuracy: 55.072463768115945\n",
            "Depth: 15\t Nodes: 139\t Accuracy: 56.52173913043478\n",
            "Depth: 16\t Nodes: 143\t Accuracy: 55.072463768115945\n",
            "Depth: 17\t Nodes: 145\t Accuracy: 55.072463768115945\n",
            "\n",
            "-----------------------------------------------------------------------------------------------------\n",
            "\n",
            "Details of depth VS number of nodes VS test accuracy for Decision Tree with Gini Index Impurity Measure\n",
            "Depth: 0\t Nodes: 1\t Accuracy: 49.275362318840585\n",
            "Depth: 1\t Nodes: 3\t Accuracy: 60.86956521739131\n",
            "Depth: 2\t Nodes: 7\t Accuracy: 59.42028985507246\n",
            "Depth: 3\t Nodes: 13\t Accuracy: 50.72463768115942\n",
            "Depth: 4\t Nodes: 25\t Accuracy: 47.82608695652174\n",
            "Depth: 5\t Nodes: 37\t Accuracy: 56.52173913043478\n",
            "Depth: 6\t Nodes: 55\t Accuracy: 65.21739130434783\n",
            "Depth: 7\t Nodes: 71\t Accuracy: 62.31884057971014\n",
            "Depth: 8\t Nodes: 87\t Accuracy: 60.86956521739131\n",
            "Depth: 9\t Nodes: 101\t Accuracy: 59.42028985507246\n",
            "Depth: 10\t Nodes: 113\t Accuracy: 56.52173913043478\n",
            "Depth: 11\t Nodes: 119\t Accuracy: 55.072463768115945\n",
            "Depth: 12\t Nodes: 125\t Accuracy: 57.971014492753625\n",
            "Depth: 13\t Nodes: 133\t Accuracy: 59.42028985507246\n",
            "Depth: 14\t Nodes: 139\t Accuracy: 59.42028985507246\n",
            "Depth: 15\t Nodes: 141\t Accuracy: 57.971014492753625\n",
            "Depth: 16\t Nodes: 145\t Accuracy: 57.971014492753625\n"
          ]
        }
      ]
    },
    {
      "cell_type": "markdown",
      "metadata": {
        "id": "WSZdjlvPFVBt"
      },
      "source": [
        "### **Printing the best possible depth limit of the Decision Trees for out dataset.**"
      ]
    },
    {
      "cell_type": "code",
      "metadata": {
        "colab": {
          "base_uri": "https://localhost:8080/"
        },
        "id": "h9CEs3UmFEYX",
        "outputId": "7dde8f95-d496-44b6-c148-417bcf27b6b8"
      },
      "source": [
        "entropy_best_depth = 0\n",
        "entropy_best_accuracy = 0\n",
        "\n",
        "for e in entropy_data:\n",
        "    if e[2] > entropy_best_accuracy:\n",
        "        entropy_best_accuracy = e[2]\n",
        "        entropy_best_depth = e[0]\n",
        "\n",
        "print(\"Best depth of Decision Tree with Entropy Impurity Measure:\", entropy_best_depth)\n",
        "print()\n",
        "\n",
        "gini_index_best_depth = 0\n",
        "gini_index_best_accuracy = 0\n",
        "\n",
        "for e in gini_index_data:\n",
        "    if e[2] > gini_index_best_accuracy:\n",
        "        gini_index_best_accuracy = e[2]\n",
        "        gini_index_best_depth = e[0]\n",
        "\n",
        "print(\"Best depth of Decision Tree with Gini Index Impurity Measure:\", gini_index_best_depth)"
      ],
      "execution_count": null,
      "outputs": [
        {
          "output_type": "stream",
          "name": "stdout",
          "text": [
            "Best depth of Decision Tree with Entropy Impurity Measure: 6\n",
            "\n",
            "Best depth of Decision Tree with Gini Index Impurity Measure: 6\n"
          ]
        }
      ]
    },
    {
      "cell_type": "markdown",
      "metadata": {
        "id": "rXTRTdnTiejX"
      },
      "source": [
        "### **Plotting of Test Accuracy vs Depth of Decision Tree**"
      ]
    },
    {
      "cell_type": "code",
      "metadata": {
        "colab": {
          "base_uri": "https://localhost:8080/",
          "height": 295
        },
        "id": "uFOxEHrEj-gq",
        "outputId": "964f996c-f20e-44e0-c139-0841351b2261"
      },
      "source": [
        "from scipy.interpolate import make_interp_spline\n",
        "\n",
        "x = []\n",
        "y = []\n",
        "points = []\n",
        "\n",
        "for e in entropy_data:\n",
        "    x.append(e[0])\n",
        "    y.append(e[2])\n",
        "    if e[0]%2 == 0:\n",
        "        points.append(e[0])\n",
        "\n",
        "x = np.array(x)\n",
        "y = np.array(y)\n",
        "\n",
        "spline = make_interp_spline(x, y)\n",
        " \n",
        "depth = np.linspace(x.min(), x.max(), 100)\n",
        "test_acc = spline(depth)\n",
        "\n",
        "plt.xticks(ticks=points)\n",
        "\n",
        "plt.title(\"Test Accuracy VS Depth for Decision Tree with Entropy\")\n",
        "plt.xlabel(\"Depth\")\n",
        "plt.ylabel(\"Test Accuracy\")\n",
        " \n",
        "# Plotting the Graph\n",
        "plt.plot(depth, test_acc)\n",
        "plt.show()"
      ],
      "execution_count": null,
      "outputs": [
        {
          "output_type": "display_data",
          "data": {
            "image/png": "[encoded data removed]",
            "text/plain": [
              "<Figure size 432x288 with 1 Axes>"
            ]
          },
          "metadata": {
            "needs_background": "light"
          }
        }
      ]
    },
    {
      "cell_type": "code",
      "metadata": {
        "colab": {
          "base_uri": "https://localhost:8080/",
          "height": 295
        },
        "id": "puhAylMTl4Tk",
        "outputId": "58b75526-833a-4c4f-f276-cac56c6d389e"
      },
      "source": [
        "from scipy.interpolate import make_interp_spline\n",
        "\n",
        "x = []\n",
        "y = []\n",
        "points = []\n",
        "\n",
        "for e in gini_index_data:\n",
        "    x.append(e[0])\n",
        "    y.append(e[2])\n",
        "    if e[0]%2 == 0:\n",
        "        points.append(e[0])\n",
        "\n",
        "x = np.array(x)\n",
        "y = np.array(y)\n",
        "\n",
        "spline = make_interp_spline(x, y)\n",
        " \n",
        "depth = np.linspace(x.min(), x.max(), 100)\n",
        "test_acc = spline(depth)\n",
        "\n",
        "plt.xticks(ticks=points)\n",
        "\n",
        "plt.title(\"Test Accuracy VS Depth for Decision Tree with Gini Index\")\n",
        "plt.xlabel(\"Depth\")\n",
        "plt.ylabel(\"Test Accuracy\")\n",
        " \n",
        "# Plotting the Graph\n",
        "plt.plot(depth, test_acc)\n",
        "plt.show()"
      ],
      "execution_count": null,
      "outputs": [
        {
          "output_type": "display_data",
          "data": {
            "image/png": "[encoded data removed]",
            "text/plain": [
              "<Figure size 432x288 with 1 Axes>"
            ]
          },
          "metadata": {
            "needs_background": "light"
          }
        }
      ]
    },
    {
      "cell_type": "markdown",
      "metadata": {
        "id": "vJvEYlh7mSJ2"
      },
      "source": [
        "### **Plotting of Test Accuracy VS Total number of Nodes in Decision Tree**"
      ]
    },
    {
      "cell_type": "code",
      "metadata": {
        "colab": {
          "base_uri": "https://localhost:8080/",
          "height": 295
        },
        "id": "8wQz4aj3mgab",
        "outputId": "f87d5c70-f1e1-407e-87a1-1e44105c299a"
      },
      "source": [
        "from scipy.interpolate import make_interp_spline\n",
        "\n",
        "x = []\n",
        "y = []\n",
        "\n",
        "for e in entropy_data:\n",
        "    x.append(e[1])\n",
        "    y.append(e[2])\n",
        "\n",
        "x = np.array(x)\n",
        "y = np.array(y)\n",
        "\n",
        "spline = make_interp_spline(x, y)\n",
        " \n",
        "depth = np.linspace(x.min(), x.max(), 100)\n",
        "test_acc = spline(depth)\n",
        "\n",
        "plt.title(\"Test Accuracy VS Total number of Nodes for Decision Tree with Entropy\")\n",
        "plt.xlabel(\"Total number of Nodes\")\n",
        "plt.ylabel(\"Test Accuracy\")\n",
        " \n",
        "# Plotting the Graph\n",
        "plt.plot(depth, test_acc)\n",
        "plt.show()"
      ],
      "execution_count": null,
      "outputs": [
        {
          "output_type": "display_data",
          "data": {
            "image/png": "[encoded data removed]",
            "text/plain": [
              "<Figure size 432x288 with 1 Axes>"
            ]
          },
          "metadata": {
            "needs_background": "light"
          }
        }
      ]
    },
    {
      "cell_type": "code",
      "metadata": {
        "colab": {
          "base_uri": "https://localhost:8080/",
          "height": 295
        },
        "id": "Fh5W6_U5nSCR",
        "outputId": "9d32c6a8-41e8-4c8a-e349-aece1f25fa27"
      },
      "source": [
        "from scipy.interpolate import make_interp_spline\n",
        "\n",
        "x = []\n",
        "y = []\n",
        "\n",
        "for e in gini_index_data:\n",
        "    x.append(e[1])\n",
        "    y.append(e[2])\n",
        "\n",
        "x = np.array(x)\n",
        "y = np.array(y)\n",
        "\n",
        "spline = make_interp_spline(x, y)\n",
        " \n",
        "depth = np.linspace(x.min(), x.max(), 100)\n",
        "test_acc = spline(depth)\n",
        "\n",
        "plt.title(\"Test Accuracy VS Total number of Nodes for Decision Tree with Gini Index\")\n",
        "plt.xlabel(\"Total number of Nodes\")\n",
        "plt.ylabel(\"Test Accuracy\")\n",
        " \n",
        "# Plotting the Graph\n",
        "plt.plot(depth, test_acc)\n",
        "plt.show()"
      ],
      "execution_count": null,
      "outputs": [
        {
          "output_type": "display_data",
          "data": {
            "image/png": "[encoded data removed]",
            "text/plain": [
              "<Figure size 432x288 with 1 Axes>"
            ]
          },
          "metadata": {
            "needs_background": "light"
          }
        }
      ]
    },
    {
      "cell_type": "markdown",
      "metadata": {
        "id": "NxhTezsLQiJW"
      },
      "source": [
        "## **4. Perform the pruning operation over the tree with the highest test accuracy (Decision Tree with Gini Index has higher test accuracy in our case) in question 2 using a valid statistical test for comparison.**"
      ]
    },
    {
      "cell_type": "markdown",
      "metadata": {
        "id": "6588ZiX69u4E"
      },
      "source": [
        "### **We first look at the accuracy provided by the Decision Tree with Gini Index Impurity Measure without pruning on the test data.**"
      ]
    },
    {
      "cell_type": "code",
      "metadata": {
        "colab": {
          "base_uri": "https://localhost:8080/"
        },
        "id": "0c5WMI8mra_7",
        "outputId": "8ee556ac-d4f9-4239-a26c-ab55d32a1c3a"
      },
      "source": [
        "X_train = train.iloc[:, :-1]\n",
        "y_train = train.iloc[:, -1]\n",
        "\n",
        "X_test = test.iloc[:, :-1]\n",
        "y_test = test.iloc[:, -1]\n",
        "\n",
        "model_gini_index = DecisionTree(impurity_measure=\"gini_index\")\n",
        "model_gini_index.fit(X_train, y_train)\n",
        "\n",
        "correct = 0\n",
        "\n",
        "for i in range(len(X_train)):\n",
        "  prediction = model_gini_index.predict(X_train.iloc[i])\n",
        "  if prediction == y_train.iloc[i]:\n",
        "    correct += 1\n",
        "\n",
        "print(\"Train Accuracy of Decision Tree with Gini Index:\", (correct/len(X_train))*100)\n",
        "\n",
        "correct = 0\n",
        "\n",
        "for i in range(len(X_test)):\n",
        "  prediction = model_gini_index.predict(X_test.iloc[i])\n",
        "  if prediction == y_test.iloc[i]:\n",
        "    correct += 1\n",
        "\n",
        "print(\"Test Accuracy of Decision Tree with Gini Index:\", (correct/len(X_test))*100)"
      ],
      "execution_count": null,
      "outputs": [
        {
          "output_type": "stream",
          "name": "stdout",
          "text": [
            "Train Accuracy of Decision Tree with Gini Index: 100.0\n",
            "Test Accuracy of Decision Tree with Gini Index: 57.971014492753625\n"
          ]
        }
      ]
    },
    {
      "cell_type": "markdown",
      "metadata": {
        "id": "tzklErf2GjJQ"
      },
      "source": [
        "### **Function to Print a Decision Tree**\n"
      ]
    },
    {
      "cell_type": "code",
      "metadata": {
        "id": "HadEKRpFGe_A"
      },
      "source": [
        "def print_tree(root, depth=0):\n",
        "    for _ in range(depth):\n",
        "        print(\"|   \", end='')\n",
        "    print(\"|--- \", end='')\n",
        "\n",
        "    if root.is_leaf:\n",
        "        print(\"class:\", root.target_class)\n",
        "    else:\n",
        "        print(root.attribute, \"<=\", root.split_value)\n",
        "        print_tree(root.left, depth+1)\n",
        "\n",
        "        for _ in range(depth):\n",
        "            print(\"|   \", end='')\n",
        "        print(\"|--- \", end='')\n",
        "        \n",
        "        print(root.attribute, \">\", root.split_value)\n",
        "        print_tree(root.right, depth+1)"
      ],
      "execution_count": null,
      "outputs": []
    },
    {
      "cell_type": "markdown",
      "metadata": {
        "id": "ie0eiB78Gvz1"
      },
      "source": [
        "### **Print the Decision Tree with Gini Index Impurity Measure before Pruning**"
      ]
    },
    {
      "cell_type": "code",
      "metadata": {
        "colab": {
          "base_uri": "https://localhost:8080/"
        },
        "id": "Bosqw6W3GsHy",
        "outputId": "1cc5d87c-02f0-4a8a-957f-5fad009bd22e"
      },
      "source": [
        "print_tree(model_gini_index.root)"
      ],
      "execution_count": null,
      "outputs": [
        {
          "output_type": "stream",
          "name": "stdout",
          "text": [
            "|--- gammagt <= 43\n",
            "|   |--- sgpt <= 45\n",
            "|   |   |--- sgpt <= 22\n",
            "|   |   |   |--- mcv <= 93\n",
            "|   |   |   |   |--- gammagt <= 19\n",
            "|   |   |   |   |   |--- alkphos <= 51\n",
            "|   |   |   |   |   |   |--- mcv <= 81\n",
            "|   |   |   |   |   |   |   |--- class: 0\n",
            "|   |   |   |   |   |   |--- mcv > 81\n",
            "|   |   |   |   |   |   |   |--- gammagt <= 18\n",
            "|   |   |   |   |   |   |   |   |--- class: 1\n",
            "|   |   |   |   |   |   |   |--- gammagt > 18\n",
            "|   |   |   |   |   |   |   |   |--- class: 0\n",
            "|   |   |   |   |   |--- alkphos > 51\n",
            "|   |   |   |   |   |   |--- gammagt <= 9\n",
            "|   |   |   |   |   |   |   |--- alkphos <= 104\n",
            "|   |   |   |   |   |   |   |   |--- sgot <= 11\n",
            "|   |   |   |   |   |   |   |   |   |--- mcv <= 88\n",
            "|   |   |   |   |   |   |   |   |   |   |--- class: 0\n",
            "|   |   |   |   |   |   |   |   |   |--- mcv > 88\n",
            "|   |   |   |   |   |   |   |   |   |   |--- class: 1\n",
            "|   |   |   |   |   |   |   |   |--- sgot > 11\n",
            "|   |   |   |   |   |   |   |   |   |--- class: 1\n",
            "|   |   |   |   |   |   |   |--- alkphos > 104\n",
            "|   |   |   |   |   |   |   |   |--- class: 0\n",
            "|   |   |   |   |   |   |--- gammagt > 9\n",
            "|   |   |   |   |   |   |   |--- sgot <= 23\n",
            "|   |   |   |   |   |   |   |   |--- sgot <= 15\n",
            "|   |   |   |   |   |   |   |   |   |--- mcv <= 91\n",
            "|   |   |   |   |   |   |   |   |   |   |--- class: 0\n",
            "|   |   |   |   |   |   |   |   |   |--- mcv > 91\n",
            "|   |   |   |   |   |   |   |   |   |   |--- class: 1\n",
            "|   |   |   |   |   |   |   |   |--- sgot > 15\n",
            "|   |   |   |   |   |   |   |   |   |--- mcv <= 84\n",
            "|   |   |   |   |   |   |   |   |   |   |--- class: 0\n",
            "|   |   |   |   |   |   |   |   |   |--- mcv > 84\n",
            "|   |   |   |   |   |   |   |   |   |   |--- alkphos <= 54\n",
            "|   |   |   |   |   |   |   |   |   |   |   |--- class: 0\n",
            "|   |   |   |   |   |   |   |   |   |   |--- alkphos > 54\n",
            "|   |   |   |   |   |   |   |   |   |   |   |--- sgpt <= 18\n",
            "|   |   |   |   |   |   |   |   |   |   |   |   |--- sgot <= 18\n",
            "|   |   |   |   |   |   |   |   |   |   |   |   |   |--- gammagt <= 15\n",
            "|   |   |   |   |   |   |   |   |   |   |   |   |   |   |--- class: 0\n",
            "|   |   |   |   |   |   |   |   |   |   |   |   |   |--- gammagt > 15\n",
            "|   |   |   |   |   |   |   |   |   |   |   |   |   |   |--- class: 1\n",
            "|   |   |   |   |   |   |   |   |   |   |   |   |--- sgot > 18\n",
            "|   |   |   |   |   |   |   |   |   |   |   |   |   |--- class: 1\n",
            "|   |   |   |   |   |   |   |   |   |   |   |--- sgpt > 18\n",
            "|   |   |   |   |   |   |   |   |   |   |   |   |--- sgot <= 20\n",
            "|   |   |   |   |   |   |   |   |   |   |   |   |   |--- alkphos <= 79\n",
            "|   |   |   |   |   |   |   |   |   |   |   |   |   |   |--- class: 1\n",
            "|   |   |   |   |   |   |   |   |   |   |   |   |   |--- alkphos > 79\n",
            "|   |   |   |   |   |   |   |   |   |   |   |   |   |   |--- class: 0\n",
            "|   |   |   |   |   |   |   |   |   |   |   |   |--- sgot > 20\n",
            "|   |   |   |   |   |   |   |   |   |   |   |   |   |--- class: 0\n",
            "|   |   |   |   |   |   |   |--- sgot > 23\n",
            "|   |   |   |   |   |   |   |   |--- class: 0\n",
            "|   |   |   |   |--- gammagt > 19\n",
            "|   |   |   |   |   |--- sgot <= 19\n",
            "|   |   |   |   |   |   |--- sgpt <= 17\n",
            "|   |   |   |   |   |   |   |--- class: 1\n",
            "|   |   |   |   |   |   |--- sgpt > 17\n",
            "|   |   |   |   |   |   |   |--- sgpt <= 18\n",
            "|   |   |   |   |   |   |   |   |--- class: 0\n",
            "|   |   |   |   |   |   |   |--- sgpt > 18\n",
            "|   |   |   |   |   |   |   |   |--- sgot <= 18\n",
            "|   |   |   |   |   |   |   |   |   |--- class: 1\n",
            "|   |   |   |   |   |   |   |   |--- sgot > 18\n",
            "|   |   |   |   |   |   |   |   |   |--- class: 0\n",
            "|   |   |   |   |   |--- sgot > 19\n",
            "|   |   |   |   |   |   |--- gammagt <= 35\n",
            "|   |   |   |   |   |   |   |--- class: 1\n",
            "|   |   |   |   |   |   |--- gammagt > 35\n",
            "|   |   |   |   |   |   |   |--- class: 0\n",
            "|   |   |   |--- mcv > 93\n",
            "|   |   |   |   |--- alkphos <= 60\n",
            "|   |   |   |   |   |--- gammagt <= 16\n",
            "|   |   |   |   |   |   |--- class: 1\n",
            "|   |   |   |   |   |--- gammagt > 16\n",
            "|   |   |   |   |   |   |--- class: 0\n",
            "|   |   |   |   |--- alkphos > 60\n",
            "|   |   |   |   |   |--- class: 0\n",
            "|   |   |--- sgpt > 22\n",
            "|   |   |   |--- gammagt <= 13\n",
            "|   |   |   |   |--- class: 0\n",
            "|   |   |   |--- gammagt > 13\n",
            "|   |   |   |   |--- mcv <= 86\n",
            "|   |   |   |   |   |--- sgot <= 22\n",
            "|   |   |   |   |   |   |--- sgot <= 18\n",
            "|   |   |   |   |   |   |   |--- class: 0\n",
            "|   |   |   |   |   |   |--- sgot > 18\n",
            "|   |   |   |   |   |   |   |--- alkphos <= 69\n",
            "|   |   |   |   |   |   |   |   |--- class: 1\n",
            "|   |   |   |   |   |   |   |--- alkphos > 69\n",
            "|   |   |   |   |   |   |   |   |--- alkphos <= 98\n",
            "|   |   |   |   |   |   |   |   |   |--- class: 0\n",
            "|   |   |   |   |   |   |   |   |--- alkphos > 98\n",
            "|   |   |   |   |   |   |   |   |   |--- class: 1\n",
            "|   |   |   |   |   |--- sgot > 22\n",
            "|   |   |   |   |   |   |--- class: 0\n",
            "|   |   |   |   |--- mcv > 86\n",
            "|   |   |   |   |   |--- sgot <= 21\n",
            "|   |   |   |   |   |   |--- sgpt <= 27\n",
            "|   |   |   |   |   |   |   |--- alkphos <= 69\n",
            "|   |   |   |   |   |   |   |   |--- gammagt <= 30\n",
            "|   |   |   |   |   |   |   |   |   |--- sgot <= 16\n",
            "|   |   |   |   |   |   |   |   |   |   |--- mcv <= 90\n",
            "|   |   |   |   |   |   |   |   |   |   |   |--- class: 1\n",
            "|   |   |   |   |   |   |   |   |   |   |--- mcv > 90\n",
            "|   |   |   |   |   |   |   |   |   |   |   |--- class: 0\n",
            "|   |   |   |   |   |   |   |   |   |--- sgot > 16\n",
            "|   |   |   |   |   |   |   |   |   |   |--- class: 1\n",
            "|   |   |   |   |   |   |   |   |--- gammagt > 30\n",
            "|   |   |   |   |   |   |   |   |   |--- sgpt <= 25\n",
            "|   |   |   |   |   |   |   |   |   |   |--- class: 0\n",
            "|   |   |   |   |   |   |   |   |   |--- sgpt > 25\n",
            "|   |   |   |   |   |   |   |   |   |   |--- class: 1\n",
            "|   |   |   |   |   |   |   |--- alkphos > 69\n",
            "|   |   |   |   |   |   |   |   |--- class: 0\n",
            "|   |   |   |   |   |   |--- sgpt > 27\n",
            "|   |   |   |   |   |   |   |--- alkphos <= 108\n",
            "|   |   |   |   |   |   |   |   |--- sgpt <= 36\n",
            "|   |   |   |   |   |   |   |   |   |--- class: 0\n",
            "|   |   |   |   |   |   |   |   |--- sgpt > 36\n",
            "|   |   |   |   |   |   |   |   |   |--- class: 1\n",
            "|   |   |   |   |   |   |   |--- alkphos > 108\n",
            "|   |   |   |   |   |   |   |   |--- class: 1\n",
            "|   |   |   |   |   |--- sgot > 21\n",
            "|   |   |   |   |   |   |--- sgot <= 32\n",
            "|   |   |   |   |   |   |   |--- gammagt <= 41\n",
            "|   |   |   |   |   |   |   |   |--- mcv <= 97\n",
            "|   |   |   |   |   |   |   |   |   |--- mcv <= 94\n",
            "|   |   |   |   |   |   |   |   |   |   |--- sgpt <= 27\n",
            "|   |   |   |   |   |   |   |   |   |   |   |--- sgpt <= 24\n",
            "|   |   |   |   |   |   |   |   |   |   |   |   |--- mcv <= 89\n",
            "|   |   |   |   |   |   |   |   |   |   |   |   |   |--- class: 1\n",
            "|   |   |   |   |   |   |   |   |   |   |   |   |--- mcv > 89\n",
            "|   |   |   |   |   |   |   |   |   |   |   |   |   |--- class: 0\n",
            "|   |   |   |   |   |   |   |   |   |   |   |--- sgpt > 24\n",
            "|   |   |   |   |   |   |   |   |   |   |   |   |--- class: 1\n",
            "|   |   |   |   |   |   |   |   |   |   |--- sgpt > 27\n",
            "|   |   |   |   |   |   |   |   |   |   |   |--- gammagt <= 36\n",
            "|   |   |   |   |   |   |   |   |   |   |   |   |--- gammagt <= 33\n",
            "|   |   |   |   |   |   |   |   |   |   |   |   |   |--- sgpt <= 34\n",
            "|   |   |   |   |   |   |   |   |   |   |   |   |   |   |--- alkphos <= 80\n",
            "|   |   |   |   |   |   |   |   |   |   |   |   |   |   |   |--- gammagt <= 14\n",
            "|   |   |   |   |   |   |   |   |   |   |   |   |   |   |   |   |--- class: 1\n",
            "|   |   |   |   |   |   |   |   |   |   |   |   |   |   |   |--- gammagt > 14\n",
            "|   |   |   |   |   |   |   |   |   |   |   |   |   |   |   |   |--- class: 0\n",
            "|   |   |   |   |   |   |   |   |   |   |   |   |   |   |--- alkphos > 80\n",
            "|   |   |   |   |   |   |   |   |   |   |   |   |   |   |   |--- mcv <= 91\n",
            "|   |   |   |   |   |   |   |   |   |   |   |   |   |   |   |   |--- class: 1\n",
            "|   |   |   |   |   |   |   |   |   |   |   |   |   |   |   |--- mcv > 91\n",
            "|   |   |   |   |   |   |   |   |   |   |   |   |   |   |   |   |--- class: 0\n",
            "|   |   |   |   |   |   |   |   |   |   |   |   |   |--- sgpt > 34\n",
            "|   |   |   |   |   |   |   |   |   |   |   |   |   |   |--- class: 1\n",
            "|   |   |   |   |   |   |   |   |   |   |   |   |--- gammagt > 33\n",
            "|   |   |   |   |   |   |   |   |   |   |   |   |   |--- class: 0\n",
            "|   |   |   |   |   |   |   |   |   |   |   |--- gammagt > 36\n",
            "|   |   |   |   |   |   |   |   |   |   |   |   |--- class: 1\n",
            "|   |   |   |   |   |   |   |   |   |--- mcv > 94\n",
            "|   |   |   |   |   |   |   |   |   |   |--- class: 0\n",
            "|   |   |   |   |   |   |   |   |--- mcv > 97\n",
            "|   |   |   |   |   |   |   |   |   |--- class: 1\n",
            "|   |   |   |   |   |   |   |--- gammagt > 41\n",
            "|   |   |   |   |   |   |   |   |--- class: 0\n",
            "|   |   |   |   |   |   |--- sgot > 32\n",
            "|   |   |   |   |   |   |   |--- class: 0\n",
            "|   |--- sgpt > 45\n",
            "|   |   |--- class: 1\n",
            "|--- gammagt > 43\n",
            "|   |--- sgot <= 31\n",
            "|   |   |--- sgpt <= 28\n",
            "|   |   |   |--- alkphos <= 100\n",
            "|   |   |   |   |--- mcv <= 86\n",
            "|   |   |   |   |   |--- mcv <= 82\n",
            "|   |   |   |   |   |   |--- class: 1\n",
            "|   |   |   |   |   |--- mcv > 82\n",
            "|   |   |   |   |   |   |--- class: 0\n",
            "|   |   |   |   |--- mcv > 86\n",
            "|   |   |   |   |   |--- class: 1\n",
            "|   |   |   |--- alkphos > 100\n",
            "|   |   |   |   |--- class: 0\n",
            "|   |   |--- sgpt > 28\n",
            "|   |   |   |--- mcv <= 95\n",
            "|   |   |   |   |--- gammagt <= 55\n",
            "|   |   |   |   |   |--- alkphos <= 65\n",
            "|   |   |   |   |   |   |--- class: 0\n",
            "|   |   |   |   |   |--- alkphos > 65\n",
            "|   |   |   |   |   |   |--- class: 1\n",
            "|   |   |   |   |--- gammagt > 55\n",
            "|   |   |   |   |   |--- mcv <= 82\n",
            "|   |   |   |   |   |   |--- class: 1\n",
            "|   |   |   |   |   |--- mcv > 82\n",
            "|   |   |   |   |   |   |--- class: 0\n",
            "|   |   |   |--- mcv > 95\n",
            "|   |   |   |   |--- class: 1\n",
            "|   |--- sgot > 31\n",
            "|   |   |--- sgpt <= 130\n",
            "|   |   |   |--- mcv <= 84\n",
            "|   |   |   |   |--- class: 0\n",
            "|   |   |   |--- mcv > 84\n",
            "|   |   |   |   |--- alkphos <= 57\n",
            "|   |   |   |   |   |--- alkphos <= 56\n",
            "|   |   |   |   |   |   |--- class: 1\n",
            "|   |   |   |   |   |--- alkphos > 56\n",
            "|   |   |   |   |   |   |--- mcv <= 95\n",
            "|   |   |   |   |   |   |   |--- class: 0\n",
            "|   |   |   |   |   |   |--- mcv > 95\n",
            "|   |   |   |   |   |   |   |--- class: 1\n",
            "|   |   |   |   |--- alkphos > 57\n",
            "|   |   |   |   |   |--- class: 1\n",
            "|   |   |--- sgpt > 130\n",
            "|   |   |   |--- alkphos <= 57\n",
            "|   |   |   |   |--- class: 1\n",
            "|   |   |   |--- alkphos > 57\n",
            "|   |   |   |   |--- class: 0\n"
          ]
        }
      ]
    },
    {
      "cell_type": "markdown",
      "metadata": {
        "id": "7DrYH90n7wGK"
      },
      "source": [
        "### **Performing Post Pruning on Decision Tree with Gini Index Impurity Measure as it provided higher test accuracy than the Decision Tree with Entropy. We used Chi-squared test for Pruning the Decision Tree. The threshold for the Chi-square test is set to 4 after experimentations as 4 was providing a descent improvement in test accuracy.**"
      ]
    },
    {
      "cell_type": "code",
      "metadata": {
        "colab": {
          "base_uri": "https://localhost:8080/"
        },
        "id": "HXmQCZaEews8",
        "outputId": "65441f42-aee2-4212-cd30-bb167c2f9143"
      },
      "source": [
        "def post_pruning(root, data):\n",
        "    if root.is_leaf:\n",
        "        return root\n",
        "    \n",
        "    epsilon = 4                         # set cutoff for gain as 4. epsilon cutoff of 4 is found to provide good improvement in test accuracy.\n",
        "\n",
        "    left_data = data[data[root.attribute] <= root.split_value]\n",
        "    right_data = data[data[root.attribute] > root.split_value]\n",
        "    \n",
        "    root.left = post_pruning(root.left, left_data)\n",
        "    root.right = post_pruning(root.right, right_data)\n",
        "\n",
        "    k = 0\n",
        "\n",
        "    target = data.columns[-1]\n",
        "    classes = data[target].unique()\n",
        "\n",
        "    left_proportion = len(left_data)/len(data)\n",
        "    right_proportion = len(right_data)/len(data)\n",
        "\n",
        "    for c in classes:\n",
        "        count = len(data[data[target] == c])\n",
        "        count_left = len(left_data[left_data[target] == c])\n",
        "        count_right = len(right_data[right_data[target] == c])\n",
        "\n",
        "        k += ((count*left_proportion - count_left)**2)/(count*left_proportion)\n",
        "        k += ((count*right_proportion - count_right)**2)/(count*right_proportion)\n",
        "\n",
        "    if k < epsilon:\n",
        "        majority = 0\n",
        "        majority_class = None\n",
        "\n",
        "        for c in classes:\n",
        "            count = len(data[data[target] == c])\n",
        "            if count > majority:\n",
        "                majority = count\n",
        "                majority_class = c\n",
        "\n",
        "        return TreeNode(is_leaf=True, target_class=majority_class)\n",
        "\n",
        "    return root\n",
        "\n",
        "\n",
        "data = pd.concat([X_train, y_train], axis=1)\n",
        "\n",
        "model_gini_index.root = post_pruning(model_gini_index.root, data)\n",
        "\n",
        "correct = 0\n",
        "\n",
        "for i in range(len(X_train)):\n",
        "    prediction = model_gini_index.predict(X_train.iloc[i])\n",
        "    if prediction == y_train.iloc[i]:\n",
        "        correct += 1\n",
        "\n",
        "print(f\"Train Accuracy of Decision Tree with Gini Index after Pruning:\", (correct/len(X_train))*100)\n",
        "\n",
        "correct = 0\n",
        "\n",
        "for i in range(len(X_test)):\n",
        "    prediction = model_gini_index.predict(X_test.iloc[i])\n",
        "    if prediction == y_test.iloc[i]:\n",
        "        correct += 1\n",
        "\n",
        "print(f\"Test Accuracy of Decision Tree with Gini Index after Pruning:\", (correct/len(X_test))*100)"
      ],
      "execution_count": null,
      "outputs": [
        {
          "output_type": "stream",
          "name": "stdout",
          "text": [
            "Train Accuracy of Decision Tree with Gini Index after Pruning: 79.77941176470588\n",
            "Test Accuracy of Decision Tree with Gini Index after Pruning: 66.66666666666666\n"
          ]
        }
      ]
    },
    {
      "cell_type": "markdown",
      "metadata": {
        "id": "mnKBZEZgHDQ1"
      },
      "source": [
        "### **Print the Decision Tree with Gini Index Impurity Measure after Pruning**"
      ]
    },
    {
      "cell_type": "code",
      "metadata": {
        "colab": {
          "base_uri": "https://localhost:8080/"
        },
        "id": "R0_LhtjUHMB8",
        "outputId": "7cf46bfd-63f0-4e4a-87bf-3111b4f7a928"
      },
      "source": [
        "print_tree(model_gini_index.root)"
      ],
      "execution_count": null,
      "outputs": [
        {
          "output_type": "stream",
          "name": "stdout",
          "text": [
            "|--- gammagt <= 43\n",
            "|   |--- sgpt <= 45\n",
            "|   |   |--- sgpt <= 22\n",
            "|   |   |   |--- mcv <= 93\n",
            "|   |   |   |   |--- gammagt <= 19\n",
            "|   |   |   |   |   |--- class: 0\n",
            "|   |   |   |   |--- gammagt > 19\n",
            "|   |   |   |   |   |--- sgot <= 19\n",
            "|   |   |   |   |   |   |--- class: 1\n",
            "|   |   |   |   |   |--- sgot > 19\n",
            "|   |   |   |   |   |   |--- gammagt <= 35\n",
            "|   |   |   |   |   |   |   |--- class: 1\n",
            "|   |   |   |   |   |   |--- gammagt > 35\n",
            "|   |   |   |   |   |   |   |--- class: 0\n",
            "|   |   |   |--- mcv > 93\n",
            "|   |   |   |   |--- class: 0\n",
            "|   |   |--- sgpt > 22\n",
            "|   |   |   |--- gammagt <= 13\n",
            "|   |   |   |   |--- class: 0\n",
            "|   |   |   |--- gammagt > 13\n",
            "|   |   |   |   |--- mcv <= 86\n",
            "|   |   |   |   |   |--- class: 0\n",
            "|   |   |   |   |--- mcv > 86\n",
            "|   |   |   |   |   |--- sgot <= 21\n",
            "|   |   |   |   |   |   |--- sgpt <= 27\n",
            "|   |   |   |   |   |   |   |--- alkphos <= 69\n",
            "|   |   |   |   |   |   |   |   |--- gammagt <= 30\n",
            "|   |   |   |   |   |   |   |   |   |--- class: 1\n",
            "|   |   |   |   |   |   |   |   |--- gammagt > 30\n",
            "|   |   |   |   |   |   |   |   |   |--- sgpt <= 25\n",
            "|   |   |   |   |   |   |   |   |   |   |--- class: 0\n",
            "|   |   |   |   |   |   |   |   |   |--- sgpt > 25\n",
            "|   |   |   |   |   |   |   |   |   |   |--- class: 1\n",
            "|   |   |   |   |   |   |   |--- alkphos > 69\n",
            "|   |   |   |   |   |   |   |   |--- class: 0\n",
            "|   |   |   |   |   |   |--- sgpt > 27\n",
            "|   |   |   |   |   |   |   |--- alkphos <= 108\n",
            "|   |   |   |   |   |   |   |   |--- sgpt <= 36\n",
            "|   |   |   |   |   |   |   |   |   |--- class: 0\n",
            "|   |   |   |   |   |   |   |   |--- sgpt > 36\n",
            "|   |   |   |   |   |   |   |   |   |--- class: 1\n",
            "|   |   |   |   |   |   |   |--- alkphos > 108\n",
            "|   |   |   |   |   |   |   |   |--- class: 1\n",
            "|   |   |   |   |   |--- sgot > 21\n",
            "|   |   |   |   |   |   |--- sgot <= 32\n",
            "|   |   |   |   |   |   |   |--- class: 1\n",
            "|   |   |   |   |   |   |--- sgot > 32\n",
            "|   |   |   |   |   |   |   |--- class: 0\n",
            "|   |--- sgpt > 45\n",
            "|   |   |--- class: 1\n",
            "|--- gammagt > 43\n",
            "|   |--- sgot <= 31\n",
            "|   |   |--- sgpt <= 28\n",
            "|   |   |   |--- alkphos <= 100\n",
            "|   |   |   |   |--- mcv <= 86\n",
            "|   |   |   |   |   |--- class: 1\n",
            "|   |   |   |   |--- mcv > 86\n",
            "|   |   |   |   |   |--- class: 1\n",
            "|   |   |   |--- alkphos > 100\n",
            "|   |   |   |   |--- class: 0\n",
            "|   |   |--- sgpt > 28\n",
            "|   |   |   |--- mcv <= 95\n",
            "|   |   |   |   |--- gammagt <= 55\n",
            "|   |   |   |   |   |--- alkphos <= 65\n",
            "|   |   |   |   |   |   |--- class: 0\n",
            "|   |   |   |   |   |--- alkphos > 65\n",
            "|   |   |   |   |   |   |--- class: 1\n",
            "|   |   |   |   |--- gammagt > 55\n",
            "|   |   |   |   |   |--- mcv <= 82\n",
            "|   |   |   |   |   |   |--- class: 1\n",
            "|   |   |   |   |   |--- mcv > 82\n",
            "|   |   |   |   |   |   |--- class: 0\n",
            "|   |   |   |--- mcv > 95\n",
            "|   |   |   |   |--- class: 1\n",
            "|   |--- sgot > 31\n",
            "|   |   |--- sgpt <= 130\n",
            "|   |   |   |--- mcv <= 84\n",
            "|   |   |   |   |--- class: 0\n",
            "|   |   |   |--- mcv > 84\n",
            "|   |   |   |   |--- class: 1\n",
            "|   |   |--- sgpt > 130\n",
            "|   |   |   |--- class: 0\n"
          ]
        }
      ]
    },
    {
      "cell_type": "markdown",
      "metadata": {
        "id": "17ijWN0QDyuA"
      },
      "source": [
        "## **5. Print the final decision tree obtained from question 3 following the hierarchical levels of data attributes as nodes of the tree.**"
      ]
    },
    {
      "cell_type": "markdown",
      "metadata": {
        "id": "Zgk9d5AAabLX"
      },
      "source": [
        "### **Function to Print a Decision Tree**"
      ]
    },
    {
      "cell_type": "code",
      "metadata": {
        "id": "oR1hWWNDaaxE"
      },
      "source": [
        "def print_tree(root, depth=0):\n",
        "    for _ in range(depth):\n",
        "        print(\"|   \", end='')\n",
        "    print(\"|--- \", end='')\n",
        "\n",
        "    if root.is_leaf:\n",
        "        print(\"class:\", root.target_class)\n",
        "    else:\n",
        "        print(root.attribute, \"<=\", root.split_value)\n",
        "        print_tree(root.left, depth+1)\n",
        "\n",
        "        for _ in range(depth):\n",
        "            print(\"|   \", end='')\n",
        "        print(\"|--- \", end='')\n",
        "        \n",
        "        print(root.attribute, \">\", root.split_value)\n",
        "        print_tree(root.right, depth+1)"
      ],
      "execution_count": null,
      "outputs": []
    },
    {
      "cell_type": "markdown",
      "metadata": {
        "id": "QBOOjrBjD5VZ"
      },
      "source": [
        "### **Print the Best Depth Decision Tree with Entropy Impurity Measure**"
      ]
    },
    {
      "cell_type": "code",
      "metadata": {
        "colab": {
          "base_uri": "https://localhost:8080/"
        },
        "id": "Yc62Sm0uEv8s",
        "outputId": "d97be09c-5229-4b3e-bd10-ae003a910ce8"
      },
      "source": [
        "entropy_best_depth = 0\n",
        "entropy_best_accuracy = 0\n",
        "\n",
        "for e in entropy_data:\n",
        "    if e[2] > entropy_best_accuracy:\n",
        "        entropy_best_accuracy = e[2]\n",
        "        entropy_best_depth = e[0]\n",
        "\n",
        "print(\"Best depth of Decision Tree with Entropy Impurity Measure:\", entropy_best_depth)\n",
        "print()\n",
        "\n",
        "model_entropy = DecisionTree(impurity_measure=\"entropy\", max_depth=entropy_best_depth)\n",
        "model_entropy.fit(X_train, y_train)\n",
        "\n",
        "print_tree(model_entropy.root)"
      ],
      "execution_count": null,
      "outputs": [
        {
          "output_type": "stream",
          "name": "stdout",
          "text": [
            "Best depth of Decision Tree with Entropy Impurity Measure: 6\n",
            "\n",
            "|--- gammagt <= 43\n",
            "|   |--- sgpt <= 45\n",
            "|   |   |--- sgpt <= 22\n",
            "|   |   |   |--- mcv <= 93\n",
            "|   |   |   |   |--- gammagt <= 19\n",
            "|   |   |   |   |   |--- alkphos <= 51\n",
            "|   |   |   |   |   |   |--- class: 1\n",
            "|   |   |   |   |   |--- alkphos > 51\n",
            "|   |   |   |   |   |   |--- class: 0\n",
            "|   |   |   |   |--- gammagt > 19\n",
            "|   |   |   |   |   |--- sgpt <= 17\n",
            "|   |   |   |   |   |   |--- class: 1\n",
            "|   |   |   |   |   |--- sgpt > 17\n",
            "|   |   |   |   |   |   |--- class: 1\n",
            "|   |   |   |--- mcv > 93\n",
            "|   |   |   |   |--- alkphos <= 60\n",
            "|   |   |   |   |   |--- gammagt <= 16\n",
            "|   |   |   |   |   |   |--- class: 1\n",
            "|   |   |   |   |   |--- gammagt > 16\n",
            "|   |   |   |   |   |   |--- class: 0\n",
            "|   |   |   |   |--- alkphos > 60\n",
            "|   |   |   |   |   |--- class: 0\n",
            "|   |   |--- sgpt > 22\n",
            "|   |   |   |--- gammagt <= 13\n",
            "|   |   |   |   |--- class: 0\n",
            "|   |   |   |--- gammagt > 13\n",
            "|   |   |   |   |--- mcv <= 86\n",
            "|   |   |   |   |   |--- sgot <= 22\n",
            "|   |   |   |   |   |   |--- class: 0\n",
            "|   |   |   |   |   |--- sgot > 22\n",
            "|   |   |   |   |   |   |--- class: 0\n",
            "|   |   |   |   |--- mcv > 86\n",
            "|   |   |   |   |   |--- sgot <= 21\n",
            "|   |   |   |   |   |   |--- class: 0\n",
            "|   |   |   |   |   |--- sgot > 21\n",
            "|   |   |   |   |   |   |--- class: 1\n",
            "|   |--- sgpt > 45\n",
            "|   |   |--- class: 1\n",
            "|--- gammagt > 43\n",
            "|   |--- sgot <= 31\n",
            "|   |   |--- mcv <= 95\n",
            "|   |   |   |--- sgpt <= 28\n",
            "|   |   |   |   |--- alkphos <= 100\n",
            "|   |   |   |   |   |--- mcv <= 86\n",
            "|   |   |   |   |   |   |--- class: 1\n",
            "|   |   |   |   |   |--- mcv > 86\n",
            "|   |   |   |   |   |   |--- class: 1\n",
            "|   |   |   |   |--- alkphos > 100\n",
            "|   |   |   |   |   |--- class: 0\n",
            "|   |   |   |--- sgpt > 28\n",
            "|   |   |   |   |--- alkphos <= 70\n",
            "|   |   |   |   |   |--- class: 0\n",
            "|   |   |   |   |--- alkphos > 70\n",
            "|   |   |   |   |   |--- gammagt <= 55\n",
            "|   |   |   |   |   |   |--- class: 1\n",
            "|   |   |   |   |   |--- gammagt > 55\n",
            "|   |   |   |   |   |   |--- class: 0\n",
            "|   |   |--- mcv > 95\n",
            "|   |   |   |--- class: 1\n",
            "|   |--- sgot > 31\n",
            "|   |   |--- sgpt <= 61\n",
            "|   |   |   |--- class: 1\n",
            "|   |   |--- sgpt > 61\n",
            "|   |   |   |--- mcv <= 84\n",
            "|   |   |   |   |--- class: 0\n",
            "|   |   |   |--- mcv > 84\n",
            "|   |   |   |   |--- sgpt <= 130\n",
            "|   |   |   |   |   |--- alkphos <= 57\n",
            "|   |   |   |   |   |   |--- class: 1\n",
            "|   |   |   |   |   |--- alkphos > 57\n",
            "|   |   |   |   |   |   |--- class: 1\n",
            "|   |   |   |   |--- sgpt > 130\n",
            "|   |   |   |   |   |--- alkphos <= 57\n",
            "|   |   |   |   |   |   |--- class: 1\n",
            "|   |   |   |   |   |--- alkphos > 57\n",
            "|   |   |   |   |   |   |--- class: 0\n"
          ]
        }
      ]
    },
    {
      "cell_type": "markdown",
      "metadata": {
        "id": "vMMWB_igEghw"
      },
      "source": [
        "### **Print the Best Depth Decision Tree with Gini Index Impurity Measure**"
      ]
    },
    {
      "cell_type": "code",
      "metadata": {
        "colab": {
          "base_uri": "https://localhost:8080/"
        },
        "id": "Z4fPUnJ2ZWOy",
        "outputId": "fca9d988-a563-4483-9a92-97d8336c310a"
      },
      "source": [
        "gini_index_best_depth = 0\n",
        "gini_index_best_accuracy = 0\n",
        "\n",
        "for e in gini_index_data:\n",
        "    if e[2] > gini_index_best_accuracy:\n",
        "        gini_index_best_accuracy = e[2]\n",
        "        gini_index_best_depth = e[0]\n",
        "\n",
        "print(\"Best depth of Decision Tree with Gini Index Impurity Measure:\", gini_index_best_depth)\n",
        "\n",
        "model_gini_index = DecisionTree(impurity_measure=\"gini_index\", max_depth=gini_index_best_depth)\n",
        "model_gini_index.fit(X_train, y_train)\n",
        "\n",
        "print_tree(model_gini_index.root)"
      ],
      "execution_count": null,
      "outputs": [
        {
          "output_type": "stream",
          "name": "stdout",
          "text": [
            "Best depth of Decision Tree with Gini Index Impurity Measure: 6\n",
            "|--- gammagt <= 43\n",
            "|   |--- sgpt <= 45\n",
            "|   |   |--- sgpt <= 22\n",
            "|   |   |   |--- mcv <= 93\n",
            "|   |   |   |   |--- gammagt <= 19\n",
            "|   |   |   |   |   |--- alkphos <= 51\n",
            "|   |   |   |   |   |   |--- class: 1\n",
            "|   |   |   |   |   |--- alkphos > 51\n",
            "|   |   |   |   |   |   |--- class: 0\n",
            "|   |   |   |   |--- gammagt > 19\n",
            "|   |   |   |   |   |--- sgot <= 19\n",
            "|   |   |   |   |   |   |--- class: 1\n",
            "|   |   |   |   |   |--- sgot > 19\n",
            "|   |   |   |   |   |   |--- class: 1\n",
            "|   |   |   |--- mcv > 93\n",
            "|   |   |   |   |--- alkphos <= 60\n",
            "|   |   |   |   |   |--- gammagt <= 16\n",
            "|   |   |   |   |   |   |--- class: 1\n",
            "|   |   |   |   |   |--- gammagt > 16\n",
            "|   |   |   |   |   |   |--- class: 0\n",
            "|   |   |   |   |--- alkphos > 60\n",
            "|   |   |   |   |   |--- class: 0\n",
            "|   |   |--- sgpt > 22\n",
            "|   |   |   |--- gammagt <= 13\n",
            "|   |   |   |   |--- class: 0\n",
            "|   |   |   |--- gammagt > 13\n",
            "|   |   |   |   |--- mcv <= 86\n",
            "|   |   |   |   |   |--- sgot <= 22\n",
            "|   |   |   |   |   |   |--- class: 0\n",
            "|   |   |   |   |   |--- sgot > 22\n",
            "|   |   |   |   |   |   |--- class: 0\n",
            "|   |   |   |   |--- mcv > 86\n",
            "|   |   |   |   |   |--- sgot <= 21\n",
            "|   |   |   |   |   |   |--- class: 0\n",
            "|   |   |   |   |   |--- sgot > 21\n",
            "|   |   |   |   |   |   |--- class: 1\n",
            "|   |--- sgpt > 45\n",
            "|   |   |--- class: 1\n",
            "|--- gammagt > 43\n",
            "|   |--- sgot <= 31\n",
            "|   |   |--- sgpt <= 28\n",
            "|   |   |   |--- alkphos <= 100\n",
            "|   |   |   |   |--- mcv <= 86\n",
            "|   |   |   |   |   |--- mcv <= 82\n",
            "|   |   |   |   |   |   |--- class: 1\n",
            "|   |   |   |   |   |--- mcv > 82\n",
            "|   |   |   |   |   |   |--- class: 0\n",
            "|   |   |   |   |--- mcv > 86\n",
            "|   |   |   |   |   |--- class: 1\n",
            "|   |   |   |--- alkphos > 100\n",
            "|   |   |   |   |--- class: 0\n",
            "|   |   |--- sgpt > 28\n",
            "|   |   |   |--- mcv <= 95\n",
            "|   |   |   |   |--- gammagt <= 55\n",
            "|   |   |   |   |   |--- alkphos <= 65\n",
            "|   |   |   |   |   |   |--- class: 0\n",
            "|   |   |   |   |   |--- alkphos > 65\n",
            "|   |   |   |   |   |   |--- class: 1\n",
            "|   |   |   |   |--- gammagt > 55\n",
            "|   |   |   |   |   |--- mcv <= 82\n",
            "|   |   |   |   |   |   |--- class: 1\n",
            "|   |   |   |   |   |--- mcv > 82\n",
            "|   |   |   |   |   |   |--- class: 0\n",
            "|   |   |   |--- mcv > 95\n",
            "|   |   |   |   |--- class: 1\n",
            "|   |--- sgot > 31\n",
            "|   |   |--- sgpt <= 130\n",
            "|   |   |   |--- mcv <= 84\n",
            "|   |   |   |   |--- class: 0\n",
            "|   |   |   |--- mcv > 84\n",
            "|   |   |   |   |--- alkphos <= 57\n",
            "|   |   |   |   |   |--- alkphos <= 56\n",
            "|   |   |   |   |   |   |--- class: 1\n",
            "|   |   |   |   |   |--- alkphos > 56\n",
            "|   |   |   |   |   |   |--- class: 1\n",
            "|   |   |   |   |--- alkphos > 57\n",
            "|   |   |   |   |   |--- class: 1\n",
            "|   |   |--- sgpt > 130\n",
            "|   |   |   |--- alkphos <= 57\n",
            "|   |   |   |   |--- class: 1\n",
            "|   |   |   |--- alkphos > 57\n",
            "|   |   |   |   |--- class: 0\n"
          ]
        }
      ]
    },
    {
      "cell_type": "markdown",
      "metadata": {
        "id": "skw6OSinjBnz"
      },
      "source": [
        "### **Report Train Accuracy VS Test Accuracy VS Total Number of Nodes VS Depth of Tree**"
      ]
    },
    {
      "cell_type": "code",
      "metadata": {
        "colab": {
          "base_uri": "https://localhost:8080/"
        },
        "id": "dU-zBusG6jgt",
        "outputId": "0320c6e9-587d-49d9-986c-f95669c84ed5"
      },
      "source": [
        "def accuracy_vs_depth(train, test, max_depth):\n",
        "    X_train = train.iloc[:, :-1]\n",
        "    y_train = train.iloc[:, -1]\n",
        "\n",
        "    X_test = test.iloc[:, :-1]\n",
        "    y_test = test.iloc[:, -1]\n",
        "\n",
        "    entropy_train_data = []\n",
        "    entropy_test_data = []\n",
        "    gini_index_train_data = []\n",
        "    gini_index_test_data = []\n",
        "\n",
        "    for depth in range(max_depth+1):\n",
        "        model_entropy = DecisionTree(impurity_measure=\"entropy\", max_depth=depth)\n",
        "        model_entropy.fit(X_train, y_train)\n",
        "\n",
        "        correct_entropy = 0\n",
        "\n",
        "        for j in range(len(X_train)):\n",
        "            prediction = model_entropy.predict(X_train.iloc[j])\n",
        "            if prediction == y_train.iloc[j]:\n",
        "                correct_entropy += 1\n",
        "\n",
        "        accuracy_entropy = (correct_entropy/len(X_train))*100\n",
        "        if len(entropy_train_data) == 0 or model_entropy.tree_depth() > entropy_train_data[-1][0]:\n",
        "            entropy_train_data.append([model_entropy.tree_depth(), model_entropy.tree_nodes(), accuracy_entropy])\n",
        "\n",
        "        correct_entropy = 0\n",
        "\n",
        "        for j in range(len(X_test)):\n",
        "            prediction = model_entropy.predict(X_test.iloc[j])\n",
        "            if prediction == y_test.iloc[j]:\n",
        "                correct_entropy += 1\n",
        "\n",
        "        accuracy_entropy = (correct_entropy/len(X_test))*100\n",
        "        if len(entropy_test_data) == 0 or model_entropy.tree_depth() > entropy_test_data[-1][0]:\n",
        "            entropy_test_data.append([model_entropy.tree_depth(), model_entropy.tree_nodes(), accuracy_entropy])\n",
        "\n",
        "        model_gini_index = DecisionTree(impurity_measure=\"gini_index\", max_depth=depth)\n",
        "        model_gini_index.fit(X_train, y_train)\n",
        "\n",
        "        correct_gini_index = 0\n",
        "\n",
        "        for j in range(len(X_train)):\n",
        "            prediction = model_gini_index.predict(X_train.iloc[j])\n",
        "            if prediction == y_train.iloc[j]:\n",
        "                correct_gini_index += 1\n",
        "\n",
        "        accuracy_gini_index = (correct_gini_index/len(X_train))*100\n",
        "        if len(gini_index_train_data) == 0 or model_gini_index.tree_depth() > gini_index_train_data[-1][0]:\n",
        "            gini_index_train_data.append([model_gini_index.tree_depth(), model_gini_index.tree_nodes(), accuracy_gini_index])\n",
        "\n",
        "        correct_gini_index = 0\n",
        "\n",
        "        for j in range(len(X_test)):\n",
        "            prediction = model_gini_index.predict(X_test.iloc[j])\n",
        "            if prediction == y_test.iloc[j]:\n",
        "                correct_gini_index += 1\n",
        "\n",
        "        accuracy_gini_index = (correct_gini_index/len(X_test))*100\n",
        "        if len(gini_index_test_data) == 0 or model_gini_index.tree_depth() > gini_index_test_data[-1][0]:\n",
        "            gini_index_test_data.append([model_gini_index.tree_depth(), model_gini_index.tree_nodes(), accuracy_gini_index])\n",
        "\n",
        "    print(\"Details of depth VS number of nodes VS train accuracy for Decision Tree with Entropy Impurity Measure\")\n",
        "    for e in entropy_train_data:\n",
        "        print(f\"Depth: {e[0]}\\t Nodes: {e[1]}\\t Accuracy: {e[2]}\")\n",
        "\n",
        "    print(\"\\n-----------------------------------------------------------------------------------------------------\\n\")\n",
        "\n",
        "    print(\"Details of depth VS number of nodes VS test accuracy for Decision Tree with Entropy Impurity Measure\")\n",
        "    for e in entropy_test_data:\n",
        "        print(f\"Depth: {e[0]}\\t Nodes: {e[1]}\\t Accuracy: {e[2]}\")\n",
        "\n",
        "    print(\"\\n-----------------------------------------------------------------------------------------------------\\n\")\n",
        "\n",
        "    print(\"Details of depth VS number of nodes VS train accuracy for Decision Tree with Gini Index Impurity Measure\")\n",
        "    for e in gini_index_train_data:\n",
        "        print(f\"Depth: {e[0]}\\t Nodes: {e[1]}\\t Accuracy: {e[2]}\")\n",
        "\n",
        "    print(\"\\n-----------------------------------------------------------------------------------------------------\\n\")\n",
        "\n",
        "    print(\"Details of depth VS number of nodes VS test accuracy for Decision Tree with Gini Index Impurity Measure\")\n",
        "    for e in gini_index_test_data:\n",
        "        print(f\"Depth: {e[0]}\\t Nodes: {e[1]}\\t Accuracy: {e[2]}\")\n",
        "\n",
        "    return (entropy_train_data, entropy_test_data, gini_index_train_data, gini_index_test_data)\n",
        "\n",
        "\n",
        "max_depth = max(model_entropy.tree_depth(), model_gini_index.tree_depth())\n",
        "\n",
        "entropy_train_data, entropy_test_data, gini_index_train_data, gini_index_test_data = accuracy_vs_depth(train, test, max_depth)"
      ],
      "execution_count": null,
      "outputs": [
        {
          "output_type": "stream",
          "name": "stdout",
          "text": [
            "Details of depth VS number of nodes VS train accuracy for Decision Tree with Entropy Impurity Measure\n",
            "Depth: 0\t Nodes: 1\t Accuracy: 51.10294117647059\n",
            "Depth: 1\t Nodes: 3\t Accuracy: 60.66176470588235\n",
            "Depth: 2\t Nodes: 7\t Accuracy: 62.5\n",
            "Depth: 3\t Nodes: 13\t Accuracy: 64.33823529411765\n",
            "Depth: 4\t Nodes: 21\t Accuracy: 70.22058823529412\n",
            "Depth: 5\t Nodes: 33\t Accuracy: 71.32352941176471\n",
            "Depth: 6\t Nodes: 51\t Accuracy: 77.94117647058823\n",
            "Depth: 7\t Nodes: 69\t Accuracy: 83.45588235294117\n",
            "Depth: 8\t Nodes: 85\t Accuracy: 85.66176470588235\n",
            "Depth: 9\t Nodes: 99\t Accuracy: 88.97058823529412\n",
            "Depth: 10\t Nodes: 107\t Accuracy: 91.54411764705883\n",
            "Depth: 11\t Nodes: 117\t Accuracy: 93.38235294117648\n",
            "Depth: 12\t Nodes: 125\t Accuracy: 94.48529411764706\n",
            "Depth: 13\t Nodes: 129\t Accuracy: 95.22058823529412\n",
            "Depth: 14\t Nodes: 133\t Accuracy: 97.42647058823529\n",
            "Depth: 15\t Nodes: 139\t Accuracy: 98.52941176470588\n",
            "Depth: 16\t Nodes: 143\t Accuracy: 99.63235294117648\n",
            "Depth: 17\t Nodes: 145\t Accuracy: 100.0\n",
            "\n",
            "-----------------------------------------------------------------------------------------------------\n",
            "\n",
            "Details of depth VS number of nodes VS test accuracy for Decision Tree with Entropy Impurity Measure\n",
            "Depth: 0\t Nodes: 1\t Accuracy: 49.275362318840585\n",
            "Depth: 1\t Nodes: 3\t Accuracy: 60.86956521739131\n",
            "Depth: 2\t Nodes: 7\t Accuracy: 59.42028985507246\n",
            "Depth: 3\t Nodes: 13\t Accuracy: 44.927536231884055\n",
            "Depth: 4\t Nodes: 21\t Accuracy: 47.82608695652174\n",
            "Depth: 5\t Nodes: 33\t Accuracy: 60.86956521739131\n",
            "Depth: 6\t Nodes: 51\t Accuracy: 65.21739130434783\n",
            "Depth: 7\t Nodes: 69\t Accuracy: 60.86956521739131\n",
            "Depth: 8\t Nodes: 85\t Accuracy: 62.31884057971014\n",
            "Depth: 9\t Nodes: 99\t Accuracy: 59.42028985507246\n",
            "Depth: 10\t Nodes: 107\t Accuracy: 55.072463768115945\n",
            "Depth: 11\t Nodes: 117\t Accuracy: 52.17391304347826\n",
            "Depth: 12\t Nodes: 125\t Accuracy: 53.62318840579711\n",
            "Depth: 13\t Nodes: 129\t Accuracy: 52.17391304347826\n",
            "Depth: 14\t Nodes: 133\t Accuracy: 55.072463768115945\n",
            "Depth: 15\t Nodes: 139\t Accuracy: 56.52173913043478\n",
            "Depth: 16\t Nodes: 143\t Accuracy: 55.072463768115945\n",
            "Depth: 17\t Nodes: 145\t Accuracy: 55.072463768115945\n",
            "\n",
            "-----------------------------------------------------------------------------------------------------\n",
            "\n",
            "Details of depth VS number of nodes VS train accuracy for Decision Tree with Gini Index Impurity Measure\n",
            "Depth: 0\t Nodes: 1\t Accuracy: 51.10294117647059\n",
            "Depth: 1\t Nodes: 3\t Accuracy: 60.66176470588235\n",
            "Depth: 2\t Nodes: 7\t Accuracy: 62.5\n",
            "Depth: 3\t Nodes: 13\t Accuracy: 66.17647058823529\n",
            "Depth: 4\t Nodes: 25\t Accuracy: 71.32352941176471\n",
            "Depth: 5\t Nodes: 37\t Accuracy: 72.42647058823529\n",
            "Depth: 6\t Nodes: 55\t Accuracy: 78.67647058823529\n",
            "Depth: 7\t Nodes: 71\t Accuracy: 83.45588235294117\n",
            "Depth: 8\t Nodes: 87\t Accuracy: 87.13235294117648\n",
            "Depth: 9\t Nodes: 101\t Accuracy: 89.33823529411765\n",
            "Depth: 10\t Nodes: 113\t Accuracy: 92.64705882352942\n",
            "Depth: 11\t Nodes: 119\t Accuracy: 93.75\n",
            "Depth: 12\t Nodes: 125\t Accuracy: 94.48529411764706\n",
            "Depth: 13\t Nodes: 133\t Accuracy: 96.69117647058823\n",
            "Depth: 14\t Nodes: 139\t Accuracy: 98.89705882352942\n",
            "Depth: 15\t Nodes: 141\t Accuracy: 99.26470588235294\n",
            "Depth: 16\t Nodes: 145\t Accuracy: 100.0\n",
            "\n",
            "-----------------------------------------------------------------------------------------------------\n",
            "\n",
            "Details of depth VS number of nodes VS test accuracy for Decision Tree with Gini Index Impurity Measure\n",
            "Depth: 0\t Nodes: 1\t Accuracy: 49.275362318840585\n",
            "Depth: 1\t Nodes: 3\t Accuracy: 60.86956521739131\n",
            "Depth: 2\t Nodes: 7\t Accuracy: 59.42028985507246\n",
            "Depth: 3\t Nodes: 13\t Accuracy: 50.72463768115942\n",
            "Depth: 4\t Nodes: 25\t Accuracy: 47.82608695652174\n",
            "Depth: 5\t Nodes: 37\t Accuracy: 56.52173913043478\n",
            "Depth: 6\t Nodes: 55\t Accuracy: 65.21739130434783\n",
            "Depth: 7\t Nodes: 71\t Accuracy: 62.31884057971014\n",
            "Depth: 8\t Nodes: 87\t Accuracy: 60.86956521739131\n",
            "Depth: 9\t Nodes: 101\t Accuracy: 59.42028985507246\n",
            "Depth: 10\t Nodes: 113\t Accuracy: 56.52173913043478\n",
            "Depth: 11\t Nodes: 119\t Accuracy: 55.072463768115945\n",
            "Depth: 12\t Nodes: 125\t Accuracy: 57.971014492753625\n",
            "Depth: 13\t Nodes: 133\t Accuracy: 59.42028985507246\n",
            "Depth: 14\t Nodes: 139\t Accuracy: 59.42028985507246\n",
            "Depth: 15\t Nodes: 141\t Accuracy: 57.971014492753625\n",
            "Depth: 16\t Nodes: 145\t Accuracy: 57.971014492753625\n"
          ]
        }
      ]
    },
    {
      "cell_type": "code",
      "metadata": {
        "colab": {
          "base_uri": "https://localhost:8080/",
          "height": 295
        },
        "id": "_WYqkpEE5jkK",
        "outputId": "717bfde7-ba15-421a-92ef-6f5981757dd5"
      },
      "source": [
        "from scipy.interpolate import make_interp_spline\n",
        "\n",
        "x = []\n",
        "y_train = []\n",
        "y_test = []\n",
        "points = []\n",
        "\n",
        "for e in entropy_train_data:\n",
        "    x.append(e[0])\n",
        "    y_train.append(e[2])\n",
        "    if e[0]%2 == 0:\n",
        "        points.append(e[0])\n",
        "\n",
        "for e in entropy_test_data:\n",
        "    y_test.append(e[2])\n",
        "\n",
        "x = np.array(x)\n",
        "y_train = np.array(y_train)\n",
        "y_test = np.array(y_test)\n",
        "\n",
        "spline_train = make_interp_spline(x, y_train)\n",
        "spline_test = make_interp_spline(x, y_test)\n",
        "\n",
        "depth = np.linspace(x.min(), x.max(), 100)\n",
        "train_acc = spline_train(depth)\n",
        "test_acc = spline_test(depth)\n",
        "\n",
        "plt.xticks(ticks=points)\n",
        "\n",
        "plt.title(\"Accuracy VS Depth for Decision Tree with Entropy\")\n",
        "plt.xlabel(\"Depth\")\n",
        "plt.ylabel(\"Accuracy\")\n",
        " \n",
        "# Plotting the Graph\n",
        "plt.plot(depth, train_acc, label=\"Train Accuracy\")\n",
        "plt.plot(depth, test_acc, label=\"Test Accuracy\")\n",
        "\n",
        "plt.legend()\n",
        "\n",
        "plt.show()"
      ],
      "execution_count": null,
      "outputs": [
        {
          "output_type": "display_data",
          "data": {
            "image/png": "[encoded data removed]",
            "text/plain": [
              "<Figure size 432x288 with 1 Axes>"
            ]
          },
          "metadata": {
            "needs_background": "light"
          }
        }
      ]
    },
    {
      "cell_type": "code",
      "metadata": {
        "colab": {
          "base_uri": "https://localhost:8080/",
          "height": 295
        },
        "id": "tu6xnF3fDW1D",
        "outputId": "277c7a77-b3d7-4222-b294-16a2a19ea6e9"
      },
      "source": [
        "from scipy.interpolate import make_interp_spline\n",
        "\n",
        "x = []\n",
        "y_train = []\n",
        "y_test = []\n",
        "points = []\n",
        "\n",
        "for e in gini_index_train_data:\n",
        "    x.append(e[0])\n",
        "    y_train.append(e[2])\n",
        "    if e[0]%2 == 0:\n",
        "        points.append(e[0])\n",
        "\n",
        "for e in gini_index_test_data:\n",
        "    y_test.append(e[2])\n",
        "\n",
        "x = np.array(x)\n",
        "y_train = np.array(y_train)\n",
        "y_test = np.array(y_test)\n",
        "\n",
        "spline_train = make_interp_spline(x, y_train)\n",
        "spline_test = make_interp_spline(x, y_test)\n",
        "\n",
        "depth = np.linspace(x.min(), x.max(), 100)\n",
        "train_acc = spline_train(depth)\n",
        "test_acc = spline_test(depth)\n",
        "\n",
        "plt.xticks(ticks=points)\n",
        "\n",
        "plt.title(\"Accuracy VS Depth for Decision Tree with Gini Index\")\n",
        "plt.xlabel(\"Depth\")\n",
        "plt.ylabel(\"Accuracy\")\n",
        " \n",
        "# Plotting the Graph\n",
        "plt.plot(depth, train_acc, label=\"Train Accuracy\")\n",
        "plt.plot(depth, test_acc, label=\"Test Accuracy\")\n",
        "\n",
        "plt.legend()\n",
        "\n",
        "plt.show()"
      ],
      "execution_count": null,
      "outputs": [
        {
          "output_type": "display_data",
          "data": {
            "image/png": "[encoded data removed]",
            "text/plain": [
              "<Figure size 432x288 with 1 Axes>"
            ]
          },
          "metadata": {
            "needs_background": "light"
          }
        }
      ]
    },
    {
      "cell_type": "code",
      "metadata": {
        "colab": {
          "base_uri": "https://localhost:8080/",
          "height": 295
        },
        "id": "9bVfiMAwD2_W",
        "outputId": "d600827d-bd06-4957-9f8f-372ebc640216"
      },
      "source": [
        "from scipy.interpolate import make_interp_spline\n",
        "\n",
        "x = []\n",
        "y_train = []\n",
        "y_test = []\n",
        "\n",
        "for e in entropy_train_data:\n",
        "    x.append(e[1])\n",
        "    y_train.append(e[2])\n",
        "\n",
        "for e in entropy_test_data:\n",
        "    y_test.append(e[2])\n",
        "\n",
        "x = np.array(x)\n",
        "y_train = np.array(y_train)\n",
        "y_test = np.array(y_test)\n",
        "\n",
        "spline_train = make_interp_spline(x, y_train)\n",
        "spline_test = make_interp_spline(x, y_test)\n",
        "\n",
        "nodes = np.linspace(x.min(), x.max(), 100)\n",
        "train_acc = spline_train(nodes)\n",
        "test_acc = spline_test(nodes)\n",
        "\n",
        "plt.title(\"Accuracy VS Total Number of Nodes for Decision Tree with Entropy\")\n",
        "plt.xlabel(\"Total Number of Nodes\")\n",
        "plt.ylabel(\"Accuracy\")\n",
        " \n",
        "# Plotting the Graph\n",
        "plt.plot(nodes, train_acc, label=\"Train Accuracy\")\n",
        "plt.plot(nodes, test_acc, label=\"Test Accuracy\")\n",
        "\n",
        "plt.legend()\n",
        "\n",
        "plt.show()"
      ],
      "execution_count": null,
      "outputs": [
        {
          "output_type": "display_data",
          "data": {
            "image/png": "[encoded data removed]",
            "text/plain": [
              "<Figure size 432x288 with 1 Axes>"
            ]
          },
          "metadata": {
            "needs_background": "light"
          }
        }
      ]
    },
    {
      "cell_type": "code",
      "metadata": {
        "colab": {
          "base_uri": "https://localhost:8080/",
          "height": 295
        },
        "id": "SI3B5wdoFGzV",
        "outputId": "4be8c336-2f36-4e85-e0c4-e15a2e05c25a"
      },
      "source": [
        "from scipy.interpolate import make_interp_spline\n",
        "\n",
        "x = []\n",
        "y_train = []\n",
        "y_test = []\n",
        "\n",
        "for e in gini_index_train_data:\n",
        "    x.append(e[1])\n",
        "    y_train.append(e[2])\n",
        "\n",
        "for e in gini_index_test_data:\n",
        "    y_test.append(e[2])\n",
        "\n",
        "x = np.array(x)\n",
        "y_train = np.array(y_train)\n",
        "y_test = np.array(y_test)\n",
        "\n",
        "spline_train = make_interp_spline(x, y_train)\n",
        "spline_test = make_interp_spline(x, y_test)\n",
        "\n",
        "nodes = np.linspace(x.min(), x.max(), 100)\n",
        "train_acc = spline_train(nodes)\n",
        "test_acc = spline_test(nodes)\n",
        "\n",
        "plt.title(\"Accuracy VS Total Number of Nodes for Decision Tree with Gini Index\")\n",
        "plt.xlabel(\"Total Number of Nodes\")\n",
        "plt.ylabel(\"Accuracy\")\n",
        " \n",
        "# Plotting the Graph\n",
        "plt.plot(nodes, train_acc, label=\"Train Accuracy\")\n",
        "plt.plot(nodes, test_acc, label=\"Test Accuracy\")\n",
        "\n",
        "plt.legend()\n",
        "\n",
        "plt.show()"
      ],
      "execution_count": null,
      "outputs": [
        {
          "output_type": "display_data",
          "data": {
            "image/png": "[encoded data removed]",
            "text/plain": [
              "<Figure size 432x288 with 1 Axes>"
            ]
          },
          "metadata": {
            "needs_background": "light"
          }
        }
      ]
    },
    {
      "cell_type": "code",
      "metadata": {
        "id": "iDXBpbIQF9PG"
      },
      "source": [
        ""
      ],
      "execution_count": null,
      "outputs": []
    }
  ]
}