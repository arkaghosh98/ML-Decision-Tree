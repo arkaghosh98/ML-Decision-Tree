{
  "nbformat": 4,
  "nbformat_minor": 0,
  "metadata": {
    "colab": {
      "name": "Decision Tree.ipynb",
      "provenance": [],
      "collapsed_sections": [],
      "include_colab_link": true
    },
    "kernelspec": {
      "name": "python3",
      "display_name": "Python 3"
    },
    "language_info": {
      "name": "python"
    }
  },
  "cells": [
    {
      "cell_type": "markdown",
      "metadata": {
        "id": "view-in-github",
        "colab_type": "text"
      },
      "source": [
        "<a href=\"https://colab.research.google.com/github/arkaghosh98/Decision-Tree-ML-Project/blob/main/Decision_Tree.ipynb\" target=\"_parent\"><img src=\"https://colab.research.google.com/assets/colab-badge.svg\" alt=\"Open In Colab\"/></a>"
      ]
    },
    {
      "cell_type": "code",
      "metadata": {
        "id": "NeRaBofiIs9J"
      },
      "source": [
        "import pandas as pd\n",
        "import numpy as np\n",
        "import matplotlib.pyplot as plt\n",
        "%matplotlib inline\n",
        "from math import log2"
      ],
      "execution_count": 68,
      "outputs": []
    },
    {
      "cell_type": "code",
      "metadata": {
        "id": "sDIF2KJIJfiL"
      },
      "source": [
        "# from google.colab import drive\n",
        "# drive.mount('/content/drive')"
      ],
      "execution_count": null,
      "outputs": []
    },
    {
      "cell_type": "code",
      "metadata": {
        "id": "-5BODJu6LLSR"
      },
      "source": [
        "cols = ['mcv', 'alkphos', 'sgpt', 'sgot', 'gammagt', 'drinks']\n",
        "skip = [85, 317, 149, 175] # duplicate rows\n",
        "useful_cols = 6 # number of useful columns\n",
        "\n",
        "df = pd.read_csv('bupa.data', names=cols, skiprows=skip, usecols=[i for i in range(useful_cols)])"
      ],
      "execution_count": 165,
      "outputs": []
    },
    {
      "cell_type": "code",
      "metadata": {
        "colab": {
          "base_uri": "https://localhost:8080/",
          "height": 417
        },
        "id": "OhLugGoCLaiI",
        "outputId": "844d30c7-324e-4b65-a194-5bccca16460b"
      },
      "source": [
        "df"
      ],
      "execution_count": 48,
      "outputs": [
        {
          "output_type": "execute_result",
          "data": {
            "text/html": [
              "<div>\n",
              "<style scoped>\n",
              "    .dataframe tbody tr th:only-of-type {\n",
              "        vertical-align: middle;\n",
              "    }\n",
              "\n",
              "    .dataframe tbody tr th {\n",
              "        vertical-align: top;\n",
              "    }\n",
              "\n",
              "    .dataframe thead th {\n",
              "        text-align: right;\n",
              "    }\n",
              "</style>\n",
              "<table border=\"1\" class=\"dataframe\">\n",
              "  <thead>\n",
              "    <tr style=\"text-align: right;\">\n",
              "      <th></th>\n",
              "      <th>mcv</th>\n",
              "      <th>alkphos</th>\n",
              "      <th>sgpt</th>\n",
              "      <th>sgot</th>\n",
              "      <th>gammagt</th>\n",
              "      <th>drinks</th>\n",
              "    </tr>\n",
              "  </thead>\n",
              "  <tbody>\n",
              "    <tr>\n",
              "      <th>0</th>\n",
              "      <td>85</td>\n",
              "      <td>92</td>\n",
              "      <td>45</td>\n",
              "      <td>27</td>\n",
              "      <td>31</td>\n",
              "      <td>0.0</td>\n",
              "    </tr>\n",
              "    <tr>\n",
              "      <th>1</th>\n",
              "      <td>85</td>\n",
              "      <td>64</td>\n",
              "      <td>59</td>\n",
              "      <td>32</td>\n",
              "      <td>23</td>\n",
              "      <td>0.0</td>\n",
              "    </tr>\n",
              "    <tr>\n",
              "      <th>2</th>\n",
              "      <td>86</td>\n",
              "      <td>54</td>\n",
              "      <td>33</td>\n",
              "      <td>16</td>\n",
              "      <td>54</td>\n",
              "      <td>0.0</td>\n",
              "    </tr>\n",
              "    <tr>\n",
              "      <th>3</th>\n",
              "      <td>91</td>\n",
              "      <td>78</td>\n",
              "      <td>34</td>\n",
              "      <td>24</td>\n",
              "      <td>36</td>\n",
              "      <td>0.0</td>\n",
              "    </tr>\n",
              "    <tr>\n",
              "      <th>4</th>\n",
              "      <td>87</td>\n",
              "      <td>70</td>\n",
              "      <td>12</td>\n",
              "      <td>28</td>\n",
              "      <td>10</td>\n",
              "      <td>0.0</td>\n",
              "    </tr>\n",
              "    <tr>\n",
              "      <th>...</th>\n",
              "      <td>...</td>\n",
              "      <td>...</td>\n",
              "      <td>...</td>\n",
              "      <td>...</td>\n",
              "      <td>...</td>\n",
              "      <td>...</td>\n",
              "    </tr>\n",
              "    <tr>\n",
              "      <th>336</th>\n",
              "      <td>99</td>\n",
              "      <td>75</td>\n",
              "      <td>26</td>\n",
              "      <td>24</td>\n",
              "      <td>41</td>\n",
              "      <td>12.0</td>\n",
              "    </tr>\n",
              "    <tr>\n",
              "      <th>337</th>\n",
              "      <td>96</td>\n",
              "      <td>69</td>\n",
              "      <td>53</td>\n",
              "      <td>43</td>\n",
              "      <td>203</td>\n",
              "      <td>12.0</td>\n",
              "    </tr>\n",
              "    <tr>\n",
              "      <th>338</th>\n",
              "      <td>98</td>\n",
              "      <td>77</td>\n",
              "      <td>55</td>\n",
              "      <td>35</td>\n",
              "      <td>89</td>\n",
              "      <td>15.0</td>\n",
              "    </tr>\n",
              "    <tr>\n",
              "      <th>339</th>\n",
              "      <td>91</td>\n",
              "      <td>68</td>\n",
              "      <td>27</td>\n",
              "      <td>26</td>\n",
              "      <td>14</td>\n",
              "      <td>16.0</td>\n",
              "    </tr>\n",
              "    <tr>\n",
              "      <th>340</th>\n",
              "      <td>98</td>\n",
              "      <td>99</td>\n",
              "      <td>57</td>\n",
              "      <td>45</td>\n",
              "      <td>65</td>\n",
              "      <td>20.0</td>\n",
              "    </tr>\n",
              "  </tbody>\n",
              "</table>\n",
              "<p>341 rows × 6 columns</p>\n",
              "</div>"
            ],
            "text/plain": [
              "     mcv  alkphos  sgpt  sgot  gammagt  drinks\n",
              "0     85       92    45    27       31     0.0\n",
              "1     85       64    59    32       23     0.0\n",
              "2     86       54    33    16       54     0.0\n",
              "3     91       78    34    24       36     0.0\n",
              "4     87       70    12    28       10     0.0\n",
              "..   ...      ...   ...   ...      ...     ...\n",
              "336   99       75    26    24       41    12.0\n",
              "337   96       69    53    43      203    12.0\n",
              "338   98       77    55    35       89    15.0\n",
              "339   91       68    27    26       14    16.0\n",
              "340   98       99    57    45       65    20.0\n",
              "\n",
              "[341 rows x 6 columns]"
            ]
          },
          "metadata": {},
          "execution_count": 48
        }
      ]
    },
    {
      "cell_type": "code",
      "metadata": {
        "id": "jbdgQjoBPDV7",
        "colab": {
          "base_uri": "https://localhost:8080/",
          "height": 295
        },
        "outputId": "ae92dce4-a7fc-4de1-fa09-12ebc905d18a"
      },
      "source": [
        "df.describe()"
      ],
      "execution_count": 49,
      "outputs": [
        {
          "output_type": "execute_result",
          "data": {
            "text/html": [
              "<div>\n",
              "<style scoped>\n",
              "    .dataframe tbody tr th:only-of-type {\n",
              "        vertical-align: middle;\n",
              "    }\n",
              "\n",
              "    .dataframe tbody tr th {\n",
              "        vertical-align: top;\n",
              "    }\n",
              "\n",
              "    .dataframe thead th {\n",
              "        text-align: right;\n",
              "    }\n",
              "</style>\n",
              "<table border=\"1\" class=\"dataframe\">\n",
              "  <thead>\n",
              "    <tr style=\"text-align: right;\">\n",
              "      <th></th>\n",
              "      <th>mcv</th>\n",
              "      <th>alkphos</th>\n",
              "      <th>sgpt</th>\n",
              "      <th>sgot</th>\n",
              "      <th>gammagt</th>\n",
              "      <th>drinks</th>\n",
              "    </tr>\n",
              "  </thead>\n",
              "  <tbody>\n",
              "    <tr>\n",
              "      <th>count</th>\n",
              "      <td>341.000000</td>\n",
              "      <td>341.000000</td>\n",
              "      <td>341.000000</td>\n",
              "      <td>341.000000</td>\n",
              "      <td>341.000000</td>\n",
              "      <td>341.000000</td>\n",
              "    </tr>\n",
              "    <tr>\n",
              "      <th>mean</th>\n",
              "      <td>90.120235</td>\n",
              "      <td>69.891496</td>\n",
              "      <td>30.513196</td>\n",
              "      <td>24.662757</td>\n",
              "      <td>38.401760</td>\n",
              "      <td>3.431085</td>\n",
              "    </tr>\n",
              "    <tr>\n",
              "      <th>std</th>\n",
              "      <td>4.452385</td>\n",
              "      <td>18.431988</td>\n",
              "      <td>19.586249</td>\n",
              "      <td>10.115541</td>\n",
              "      <td>39.439379</td>\n",
              "      <td>3.341640</td>\n",
              "    </tr>\n",
              "    <tr>\n",
              "      <th>min</th>\n",
              "      <td>65.000000</td>\n",
              "      <td>23.000000</td>\n",
              "      <td>4.000000</td>\n",
              "      <td>5.000000</td>\n",
              "      <td>5.000000</td>\n",
              "      <td>0.000000</td>\n",
              "    </tr>\n",
              "    <tr>\n",
              "      <th>25%</th>\n",
              "      <td>87.000000</td>\n",
              "      <td>57.000000</td>\n",
              "      <td>19.000000</td>\n",
              "      <td>19.000000</td>\n",
              "      <td>15.000000</td>\n",
              "      <td>0.500000</td>\n",
              "    </tr>\n",
              "    <tr>\n",
              "      <th>50%</th>\n",
              "      <td>90.000000</td>\n",
              "      <td>67.000000</td>\n",
              "      <td>26.000000</td>\n",
              "      <td>23.000000</td>\n",
              "      <td>25.000000</td>\n",
              "      <td>3.000000</td>\n",
              "    </tr>\n",
              "    <tr>\n",
              "      <th>75%</th>\n",
              "      <td>92.000000</td>\n",
              "      <td>80.000000</td>\n",
              "      <td>34.000000</td>\n",
              "      <td>27.000000</td>\n",
              "      <td>46.000000</td>\n",
              "      <td>5.000000</td>\n",
              "    </tr>\n",
              "    <tr>\n",
              "      <th>max</th>\n",
              "      <td>103.000000</td>\n",
              "      <td>138.000000</td>\n",
              "      <td>155.000000</td>\n",
              "      <td>82.000000</td>\n",
              "      <td>297.000000</td>\n",
              "      <td>20.000000</td>\n",
              "    </tr>\n",
              "  </tbody>\n",
              "</table>\n",
              "</div>"
            ],
            "text/plain": [
              "              mcv     alkphos        sgpt        sgot     gammagt      drinks\n",
              "count  341.000000  341.000000  341.000000  341.000000  341.000000  341.000000\n",
              "mean    90.120235   69.891496   30.513196   24.662757   38.401760    3.431085\n",
              "std      4.452385   18.431988   19.586249   10.115541   39.439379    3.341640\n",
              "min     65.000000   23.000000    4.000000    5.000000    5.000000    0.000000\n",
              "25%     87.000000   57.000000   19.000000   19.000000   15.000000    0.500000\n",
              "50%     90.000000   67.000000   26.000000   23.000000   25.000000    3.000000\n",
              "75%     92.000000   80.000000   34.000000   27.000000   46.000000    5.000000\n",
              "max    103.000000  138.000000  155.000000   82.000000  297.000000   20.000000"
            ]
          },
          "metadata": {},
          "execution_count": 49
        }
      ]
    },
    {
      "cell_type": "code",
      "metadata": {
        "colab": {
          "base_uri": "https://localhost:8080/"
        },
        "id": "hBiIxr93QMVS",
        "outputId": "7d3df68c-2b47-433a-89e0-998e6d085a49"
      },
      "source": [
        "df.info()"
      ],
      "execution_count": 50,
      "outputs": [
        {
          "output_type": "stream",
          "name": "stdout",
          "text": [
            "<class 'pandas.core.frame.DataFrame'>\n",
            "RangeIndex: 341 entries, 0 to 340\n",
            "Data columns (total 6 columns):\n",
            " #   Column   Non-Null Count  Dtype  \n",
            "---  ------   --------------  -----  \n",
            " 0   mcv      341 non-null    int64  \n",
            " 1   alkphos  341 non-null    int64  \n",
            " 2   sgpt     341 non-null    int64  \n",
            " 3   sgot     341 non-null    int64  \n",
            " 4   gammagt  341 non-null    int64  \n",
            " 5   drinks   341 non-null    float64\n",
            "dtypes: float64(1), int64(5)\n",
            "memory usage: 16.1 KB\n"
          ]
        }
      ]
    },
    {
      "cell_type": "code",
      "metadata": {
        "colab": {
          "base_uri": "https://localhost:8080/",
          "height": 417
        },
        "id": "EQT5UGOAxqOB",
        "outputId": "a4215c92-0827-467f-c833-bea885d53979"
      },
      "source": [
        "mean = df[df.columns[5]].mean()\n",
        "df.loc[(df.drinks < mean), 'drinks']=int(0)\n",
        "df.loc[(df.drinks >= mean), 'drinks']=int(1)\n",
        "df = df.astype(int)\n",
        "df"
      ],
      "execution_count": 166,
      "outputs": [
        {
          "output_type": "execute_result",
          "data": {
            "text/html": [
              "<div>\n",
              "<style scoped>\n",
              "    .dataframe tbody tr th:only-of-type {\n",
              "        vertical-align: middle;\n",
              "    }\n",
              "\n",
              "    .dataframe tbody tr th {\n",
              "        vertical-align: top;\n",
              "    }\n",
              "\n",
              "    .dataframe thead th {\n",
              "        text-align: right;\n",
              "    }\n",
              "</style>\n",
              "<table border=\"1\" class=\"dataframe\">\n",
              "  <thead>\n",
              "    <tr style=\"text-align: right;\">\n",
              "      <th></th>\n",
              "      <th>mcv</th>\n",
              "      <th>alkphos</th>\n",
              "      <th>sgpt</th>\n",
              "      <th>sgot</th>\n",
              "      <th>gammagt</th>\n",
              "      <th>drinks</th>\n",
              "    </tr>\n",
              "  </thead>\n",
              "  <tbody>\n",
              "    <tr>\n",
              "      <th>0</th>\n",
              "      <td>85</td>\n",
              "      <td>92</td>\n",
              "      <td>45</td>\n",
              "      <td>27</td>\n",
              "      <td>31</td>\n",
              "      <td>0</td>\n",
              "    </tr>\n",
              "    <tr>\n",
              "      <th>1</th>\n",
              "      <td>85</td>\n",
              "      <td>64</td>\n",
              "      <td>59</td>\n",
              "      <td>32</td>\n",
              "      <td>23</td>\n",
              "      <td>0</td>\n",
              "    </tr>\n",
              "    <tr>\n",
              "      <th>2</th>\n",
              "      <td>86</td>\n",
              "      <td>54</td>\n",
              "      <td>33</td>\n",
              "      <td>16</td>\n",
              "      <td>54</td>\n",
              "      <td>0</td>\n",
              "    </tr>\n",
              "    <tr>\n",
              "      <th>3</th>\n",
              "      <td>91</td>\n",
              "      <td>78</td>\n",
              "      <td>34</td>\n",
              "      <td>24</td>\n",
              "      <td>36</td>\n",
              "      <td>0</td>\n",
              "    </tr>\n",
              "    <tr>\n",
              "      <th>4</th>\n",
              "      <td>87</td>\n",
              "      <td>70</td>\n",
              "      <td>12</td>\n",
              "      <td>28</td>\n",
              "      <td>10</td>\n",
              "      <td>0</td>\n",
              "    </tr>\n",
              "    <tr>\n",
              "      <th>...</th>\n",
              "      <td>...</td>\n",
              "      <td>...</td>\n",
              "      <td>...</td>\n",
              "      <td>...</td>\n",
              "      <td>...</td>\n",
              "      <td>...</td>\n",
              "    </tr>\n",
              "    <tr>\n",
              "      <th>336</th>\n",
              "      <td>99</td>\n",
              "      <td>75</td>\n",
              "      <td>26</td>\n",
              "      <td>24</td>\n",
              "      <td>41</td>\n",
              "      <td>1</td>\n",
              "    </tr>\n",
              "    <tr>\n",
              "      <th>337</th>\n",
              "      <td>96</td>\n",
              "      <td>69</td>\n",
              "      <td>53</td>\n",
              "      <td>43</td>\n",
              "      <td>203</td>\n",
              "      <td>1</td>\n",
              "    </tr>\n",
              "    <tr>\n",
              "      <th>338</th>\n",
              "      <td>98</td>\n",
              "      <td>77</td>\n",
              "      <td>55</td>\n",
              "      <td>35</td>\n",
              "      <td>89</td>\n",
              "      <td>1</td>\n",
              "    </tr>\n",
              "    <tr>\n",
              "      <th>339</th>\n",
              "      <td>91</td>\n",
              "      <td>68</td>\n",
              "      <td>27</td>\n",
              "      <td>26</td>\n",
              "      <td>14</td>\n",
              "      <td>1</td>\n",
              "    </tr>\n",
              "    <tr>\n",
              "      <th>340</th>\n",
              "      <td>98</td>\n",
              "      <td>99</td>\n",
              "      <td>57</td>\n",
              "      <td>45</td>\n",
              "      <td>65</td>\n",
              "      <td>1</td>\n",
              "    </tr>\n",
              "  </tbody>\n",
              "</table>\n",
              "<p>341 rows × 6 columns</p>\n",
              "</div>"
            ],
            "text/plain": [
              "     mcv  alkphos  sgpt  sgot  gammagt  drinks\n",
              "0     85       92    45    27       31       0\n",
              "1     85       64    59    32       23       0\n",
              "2     86       54    33    16       54       0\n",
              "3     91       78    34    24       36       0\n",
              "4     87       70    12    28       10       0\n",
              "..   ...      ...   ...   ...      ...     ...\n",
              "336   99       75    26    24       41       1\n",
              "337   96       69    53    43      203       1\n",
              "338   98       77    55    35       89       1\n",
              "339   91       68    27    26       14       1\n",
              "340   98       99    57    45       65       1\n",
              "\n",
              "[341 rows x 6 columns]"
            ]
          },
          "metadata": {},
          "execution_count": 166
        }
      ]
    },
    {
      "cell_type": "code",
      "metadata": {
        "colab": {
          "base_uri": "https://localhost:8080/"
        },
        "id": "nScgSBJOztVt",
        "outputId": "1c7b6fd8-fd43-49a8-eec7-d072e37cd1bb"
      },
      "source": [
        "df.drinks.unique()"
      ],
      "execution_count": 52,
      "outputs": [
        {
          "output_type": "execute_result",
          "data": {
            "text/plain": [
              "array([0, 1])"
            ]
          },
          "metadata": {},
          "execution_count": 52
        }
      ]
    },
    {
      "cell_type": "code",
      "metadata": {
        "colab": {
          "base_uri": "https://localhost:8080/"
        },
        "id": "aapJDajmAhl9",
        "outputId": "91c45270-7027-47c0-b127-be778a8c0dae"
      },
      "source": [
        "print(len(df[df['drinks'] == 0]))\n",
        "print(len(df[df['drinks'] == 1]))"
      ],
      "execution_count": 167,
      "outputs": [
        {
          "output_type": "stream",
          "name": "stdout",
          "text": [
            "189\n",
            "152\n"
          ]
        }
      ]
    },
    {
      "cell_type": "code",
      "metadata": {
        "colab": {
          "base_uri": "https://localhost:8080/"
        },
        "id": "oUbelU1w1ic7",
        "outputId": "07260203-6dc6-48f4-8eab-98078dfbc2aa"
      },
      "source": [
        "colour = {0 : 'red',  1: 'green'}\n",
        "colour.items()"
      ],
      "execution_count": 56,
      "outputs": [
        {
          "output_type": "execute_result",
          "data": {
            "text/plain": [
              "dict_items([(0, 'red'), (1, 'green')])"
            ]
          },
          "metadata": {},
          "execution_count": 56
        }
      ]
    },
    {
      "cell_type": "code",
      "metadata": {
        "colab": {
          "base_uri": "https://localhost:8080/",
          "height": 265
        },
        "id": "tufpSiwNx3Mm",
        "outputId": "82c653c6-d62a-456a-c423-6836c414a056"
      },
      "source": [
        "for i in range(5):\n",
        "    col = df.columns[i]\n",
        "    target = df.columns[5]\n",
        "\n",
        "    d = {}\n",
        "\n",
        "    for j in range(len(df)):\n",
        "        if df[target][j] not in d:\n",
        "            d[df[target][j]] = []\n",
        "        d[df[target][j]].append(df[col][j])\n",
        "\n",
        "    for e in d.keys():\n",
        "        y = d[e]\n",
        "        X = [(i+1)*2 for _ in range(len(y))]\n",
        "        col = colour[e]\n",
        "        plt.scatter(X, y, color=col)\n",
        "      \n",
        "plt.show()"
      ],
      "execution_count": 57,
      "outputs": [
        {
          "output_type": "display_data",
          "data": {
            "image/png": "[encoded data removed]",
            "text/plain": [
              "<Figure size 432x288 with 1 Axes>"
            ]
          },
          "metadata": {
            "needs_background": "light"
          }
        }
      ]
    },
    {
      "cell_type": "code",
      "metadata": {
        "id": "lNCsch4WXqRe"
      },
      "source": [
        "X = df.iloc[:, :-1]\n",
        "y = df.iloc[:, -1]"
      ],
      "execution_count": 59,
      "outputs": []
    },
    {
      "cell_type": "code",
      "metadata": {
        "id": "sP4VTL0lDAts"
      },
      "source": [
        "class TreeNode():\n",
        "  def __init__(self, is_leaf, attribute=None, split_value=None, left=None, right=None, target_class=None):\n",
        "    # to differentiate between internal and leaf node\n",
        "    self.is_leaf = is_leaf\n",
        "\n",
        "    # atrributes for internal/decision node\n",
        "    self.attribute = attribute\n",
        "    self.split_value = split_value\n",
        "    self.left = left\n",
        "    self.right = right\n",
        "    \n",
        "    # attribute for stroring class in leaf node\n",
        "    self.target_class = target_class"
      ],
      "execution_count": 168,
      "outputs": []
    },
    {
      "cell_type": "code",
      "metadata": {
        "id": "GuWbVI1fU5rs"
      },
      "source": [
        "class DecisionTree():\n",
        "  def __init__(self):\n",
        "    self.root = None\n",
        "    \n",
        "  def build_tree(self, data):\n",
        "    if len(data) == 1:\n",
        "      return TreeNode(is_leaf=True, target_class=data.iloc[0][-1])\n",
        "    \n",
        "    m = data.shape[1]\n",
        "      \n",
        "    best_gain = float('-inf')\n",
        "    best_attribute = None\n",
        "      \n",
        "    for i in range(m-1):\n",
        "      col = data.columns[i]\n",
        "      target = data.columns[5]\n",
        "        \n",
        "      gain = self.information_gain(data, col)\n",
        "      if gain > best_gain:\n",
        "        best_gain = gain\n",
        "        best_attribute = col\n",
        "          \n",
        "    if best_gain == 0:\n",
        "      n = len(data[data[target] == 0])\n",
        "      m = len(data[data[target] == 1])\n",
        "      if n > m:\n",
        "        majority_class = 0\n",
        "      else:\n",
        "        majority_class = 1\n",
        "      if n != 0 and m != 0:\n",
        "        print(\"---> \", n, m)\n",
        "      return TreeNode(is_leaf=True, target_class=majority_class)\n",
        "      \n",
        "    split_value = data[best_attribute].median()\n",
        "    left_data = data[data[best_attribute] < split_value]\n",
        "    right_data = data[data[best_attribute] >= split_value]\n",
        "      \n",
        "    left = self.build_tree(left_data)\n",
        "    right = self.build_tree(right_data)\n",
        "      \n",
        "    return TreeNode(is_leaf=False, attribute=best_attribute, split_value=split_value, left=left, right=right)\n",
        "    \n",
        "  def entropy(self, data):\n",
        "    res = 0\n",
        "    \n",
        "    classes = data.drinks.unique()\n",
        "    for c in classes:\n",
        "      count = len(data[data['drinks'] == c])\n",
        "      if count != 0:\n",
        "        res -= (count/len(data))*log2(count/len(data))\n",
        "      \n",
        "    return res\n",
        "  \n",
        "  def information_gain(self, data, col):\n",
        "    gain = self.entropy(data)\n",
        "    \n",
        "    split_value = data[col].median()\n",
        "    left_data = data[data[col] < split_value]\n",
        "    right_data = data[data[col] >= split_value]\n",
        "    \n",
        "    gain -= (len(left_data)/len(data))*self.entropy(left_data)\n",
        "    gain -= (len(right_data)/len(data))*self.entropy(right_data)\n",
        "    \n",
        "    return gain\n",
        "  \n",
        "  def fit(self, X, y):\n",
        "    data = pd.concat([X, y], axis=1)\n",
        "    self.root = self.build_tree(data)\n",
        "  \n",
        "  def get_class(self, root, X):\n",
        "    if root.is_leaf:\n",
        "      return root.target_class\n",
        "\n",
        "    if X[root.attribute] < root.split_value:\n",
        "      return self.get_class(root.left, X)\n",
        "    return self.get_class(root.right, X)\n",
        "    \n",
        "  def predict(self, X):\n",
        "    return self.get_class(self.root, X)"
      ],
      "execution_count": 169,
      "outputs": []
    },
    {
      "cell_type": "code",
      "metadata": {
        "id": "v_DBz3cOMo6x"
      },
      "source": [
        "from sklearn.model_selection import train_test_split\n",
        "\n",
        "train, test = train_test_split(df, test_size=0.2)"
      ],
      "execution_count": 170,
      "outputs": []
    },
    {
      "cell_type": "code",
      "metadata": {
        "id": "HJrtu-T4ViXY"
      },
      "source": [
        "X_train = train.iloc[:, :-1]\n",
        "y_train = train.iloc[:, -1]"
      ],
      "execution_count": 171,
      "outputs": []
    },
    {
      "cell_type": "code",
      "metadata": {
        "id": "GbJAZIBwNfua"
      },
      "source": [
        "X_test = test.iloc[:, :-1]\n",
        "y_test = test.iloc[:, -1]"
      ],
      "execution_count": 172,
      "outputs": []
    },
    {
      "cell_type": "code",
      "metadata": {
        "id": "2aFAPfU3VEqW"
      },
      "source": [
        "model = DecisionTree()\n",
        "model.fit(X_train, y_train)"
      ],
      "execution_count": 173,
      "outputs": []
    },
    {
      "cell_type": "code",
      "metadata": {
        "colab": {
          "base_uri": "https://localhost:8080/"
        },
        "id": "u_keEfyvV7Kw",
        "outputId": "7f1d44d9-bc95-4aa8-c540-50580de59f6c"
      },
      "source": [
        "correct = 0\n",
        "\n",
        "for i in range(len(X_train)):\n",
        "  prediction = model.predict(X_train.iloc[i])\n",
        "  if prediction == y_train.iloc[i]:\n",
        "    correct += 1\n",
        "\n",
        "print(\"Accuracy:\", (correct/len(X_train))*100)"
      ],
      "execution_count": 174,
      "outputs": [
        {
          "output_type": "stream",
          "name": "stdout",
          "text": [
            "Accuracy: 100.0\n"
          ]
        }
      ]
    },
    {
      "cell_type": "code",
      "metadata": {
        "colab": {
          "base_uri": "https://localhost:8080/"
        },
        "id": "4Hb9CQa_SqRe",
        "outputId": "d4b5fdc1-decc-424d-9db3-891676399122"
      },
      "source": [
        "correct = 0\n",
        "\n",
        "for i in range(len(X_test)):\n",
        "  prediction = model.predict(X_test.iloc[i])\n",
        "  if prediction == y_test.iloc[i]:\n",
        "    correct += 1\n",
        "\n",
        "print(\"Accuracy:\", (correct/len(X_test))*100)"
      ],
      "execution_count": 175,
      "outputs": [
        {
          "output_type": "stream",
          "name": "stdout",
          "text": [
            "Accuracy: 62.31884057971014\n"
          ]
        }
      ]
    },
    {
      "cell_type": "code",
      "metadata": {
        "id": "sJlkIe5IWHwH"
      },
      "source": [
        ""
      ],
      "execution_count": null,
      "outputs": []
    }
  ]
}